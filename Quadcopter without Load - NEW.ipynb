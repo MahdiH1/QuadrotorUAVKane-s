{
 "cells": [
  {
   "cell_type": "code",
   "execution_count": 1,
   "metadata": {},
   "outputs": [],
   "source": [
    "from sympy import symbols\n",
    "from sympy.physics.mechanics import *\n",
    "from sympy.physics.vector import init_vprinting, vpprint, vprint, vlatex\n",
    "\n",
    "init_vprinting(use_latex='mathjax', pretty_print=False)"
   ]
  },
  {
   "cell_type": "code",
   "execution_count": 2,
   "metadata": {},
   "outputs": [
    {
     "data": {
      "text/html": [
       "\n",
       "<style>\n",
       "    div#notebook-container    { width: 95%; }\n",
       "    div#menubar-container     { width: 65%; }\n",
       "    div#maintoolbar-container { width: 99%; }\n",
       "</style>\n"
      ],
      "text/plain": [
       "<IPython.core.display.HTML object>"
      ]
     },
     "metadata": {},
     "output_type": "display_data"
    }
   ],
   "source": [
    "from sympy.physics.mechanics import inertia, RigidBody\n",
    "from matplotlib.pyplot import *\n",
    "%matplotlib inline\n",
    "from IPython.display import set_matplotlib_formats\n",
    "set_matplotlib_formats('png','pdf')\n",
    "from IPython.display import display, HTML\n",
    "\n",
    "display(HTML(data=\"\"\"\n",
    "<style>\n",
    "    div#notebook-container    { width: 95%; }\n",
    "    div#menubar-container     { width: 65%; }\n",
    "    div#maintoolbar-container { width: 99%; }\n",
    "</style>\n",
    "\"\"\"))"
   ]
  },
  {
   "cell_type": "code",
   "execution_count": 3,
   "metadata": {},
   "outputs": [],
   "source": [
    "N = ReferenceFrame('N')  \n",
    "B = ReferenceFrame('B')  \n",
    "C = ReferenceFrame('C')  \n",
    "D = ReferenceFrame('D') "
   ]
  },
  {
   "cell_type": "code",
   "execution_count": 4,
   "metadata": {},
   "outputs": [],
   "source": [
    "No = Point('No')\n",
    "Bcm = Point('Bcm') \n",
    "M1 = Point('M1')    \n",
    "M2 = Point('M2')\n",
    "M3 = Point('M3')\n",
    "M4 = Point('M4')"
   ]
  },
  {
   "cell_type": "code",
   "execution_count": 5,
   "metadata": {},
   "outputs": [],
   "source": [
    "x, y, z, xdot, ydot, zdot = dynamicsymbols('x y z xdot ydot zdot')\n",
    "phi, theta, psi, p, q, r = dynamicsymbols('phi theta psi p q r')"
   ]
  },
  {
   "cell_type": "code",
   "execution_count": 6,
   "metadata": {},
   "outputs": [],
   "source": [
    "xd, yd, zd, xdotd, ydotd, zdotd = dynamicsymbols('x y z xdot ydot zdot', 1)\n",
    "phid, thetad, psid, pd, qd, rd = dynamicsymbols('phi theta psi p q r', 1)"
   ]
  },
  {
   "cell_type": "code",
   "execution_count": 7,
   "metadata": {},
   "outputs": [],
   "source": [
    "mB, g, dxm, dym, dzm, IBxx, IByy, IBzz = symbols('mB g dxm dym dzm IBxx IByy IBzz')\n",
    "ThrM1, ThrM2, ThrM3, ThrM4, TorM1, TorM2, TorM3, TorM4 = symbols('ThrM1 ThrM2 ThrM3 ThrM4 TorM1 TorM2 TorM3 TorM4')"
   ]
  },
  {
   "cell_type": "code",
   "execution_count": 8,
   "metadata": {},
   "outputs": [],
   "source": [
    "D.orient(N, 'Axis', [psi, N.z])\n",
    "C.orient(D, 'Axis', [theta, D.y])\n",
    "B.orient(C, 'Axis', [phi, C.x])\n"
   ]
  },
  {
   "cell_type": "code",
   "execution_count": 9,
   "metadata": {},
   "outputs": [],
   "source": [
    "No.set_vel(N, 0)"
   ]
  },
  {
   "cell_type": "code",
   "execution_count": 10,
   "metadata": {},
   "outputs": [],
   "source": [
    "Bcm.set_pos(No, x*N.x + y*N.y + z*N.z)\n",
    "Bcm.set_vel(N, Bcm.pos_from(No).dt(N))"
   ]
  },
  {
   "cell_type": "code",
   "execution_count": 11,
   "metadata": {},
   "outputs": [
    {
     "data": {
      "text/latex": [
       "$\\displaystyle (dym \\left(- \\sin{\\left(\\phi \\right)} \\dot{\\theta} + \\cos{\\left(\\phi \\right)} \\cos{\\left(\\theta \\right)} \\dot{\\psi}\\right) - dzm \\left(\\sin{\\left(\\phi \\right)} \\cos{\\left(\\theta \\right)} \\dot{\\psi} + \\cos{\\left(\\phi \\right)} \\dot{\\theta}\\right))\\mathbf{\\hat{b}_x} + (- dxm \\left(- \\sin{\\left(\\phi \\right)} \\dot{\\theta} + \\cos{\\left(\\phi \\right)} \\cos{\\left(\\theta \\right)} \\dot{\\psi}\\right) + dzm \\left(- \\sin{\\left(\\theta \\right)} \\dot{\\psi} + \\dot{\\phi}\\right))\\mathbf{\\hat{b}_y} + (dxm \\left(\\sin{\\left(\\phi \\right)} \\cos{\\left(\\theta \\right)} \\dot{\\psi} + \\cos{\\left(\\phi \\right)} \\dot{\\theta}\\right) - dym \\left(- \\sin{\\left(\\theta \\right)} \\dot{\\psi} + \\dot{\\phi}\\right))\\mathbf{\\hat{b}_z} + (- \\left(- \\sin{\\left(\\theta \\right)} \\dot{\\phi} + \\dot{\\psi}\\right) y + \\left(\\sin{\\left(\\psi \\right)} \\cos{\\left(\\theta \\right)} \\dot{\\phi} + \\cos{\\left(\\psi \\right)} \\dot{\\theta}\\right) z)\\mathbf{\\hat{n}_x} + (- \\left(- \\sin{\\left(\\psi \\right)} \\dot{\\theta} + \\cos{\\left(\\psi \\right)} \\cos{\\left(\\theta \\right)} \\dot{\\phi}\\right) z + \\left(- \\sin{\\left(\\theta \\right)} \\dot{\\phi} + \\dot{\\psi}\\right) x)\\mathbf{\\hat{n}_y} + (\\left(- \\sin{\\left(\\psi \\right)} \\dot{\\theta} + \\cos{\\left(\\psi \\right)} \\cos{\\left(\\theta \\right)} \\dot{\\phi}\\right) y - \\left(\\sin{\\left(\\psi \\right)} \\cos{\\left(\\theta \\right)} \\dot{\\phi} + \\cos{\\left(\\psi \\right)} \\dot{\\theta}\\right) x)\\mathbf{\\hat{n}_z}$"
      ],
      "text/plain": [
       "(-(-sin(theta)*phi' + psi')*y + (sin(psi)*cos(theta)*phi' + cos(psi)*theta')*z)*N.x + (-(-sin(psi)*theta' + cos(psi)*cos(theta)*phi')*z + (-sin(theta)*phi' + psi')*x)*N.y + ((-sin(psi)*theta' + cos(psi)*cos(theta)*phi')*y - (sin(psi)*cos(theta)*phi' + cos(psi)*theta')*x)*N.z + (dym*(-sin(phi)*theta' + cos(phi)*cos(theta)*psi') - dzm*(sin(phi)*cos(theta)*psi' + cos(phi)*theta'))*B.x + (-dxm*(-sin(phi)*theta' + cos(phi)*cos(theta)*psi') + dzm*(-sin(theta)*psi' + phi'))*B.y + (dxm*(sin(phi)*cos(theta)*psi' + cos(phi)*theta') - dym*(-sin(theta)*psi' + phi'))*B.z"
      ]
     },
     "execution_count": 11,
     "metadata": {},
     "output_type": "execute_result"
    }
   ],
   "source": [
    "M1.set_pos(Bcm,  dxm*B.x - dym*B.y - dzm*B.z)\n",
    "M2.set_pos(Bcm,  dxm*B.x + dym*B.y - dzm*B.z)\n",
    "M3.set_pos(Bcm, -dxm*B.x + dym*B.y - dzm*B.z)\n",
    "M4.set_pos(Bcm, -dxm*B.x - dym*B.y - dzm*B.z)\n",
    "M1.v2pt_theory(No, N, B)\n",
    "M2.v2pt_theory(No, N, B)\n",
    "M3.v2pt_theory(No, N, B)\n",
    "M4.v2pt_theory(No, N, B)"
   ]
  },
  {
   "cell_type": "code",
   "execution_count": 12,
   "metadata": {},
   "outputs": [
    {
     "data": {
      "text/latex": [
       "$\\displaystyle (dxm \\cos{\\left(\\psi \\right)} \\cos{\\left(\\theta \\right)} - dym \\left(\\sin{\\left(\\phi \\right)} \\sin{\\left(\\theta \\right)} \\cos{\\left(\\psi \\right)} - \\sin{\\left(\\psi \\right)} \\cos{\\left(\\phi \\right)}\\right) - dzm \\left(\\sin{\\left(\\phi \\right)} \\sin{\\left(\\psi \\right)} + \\sin{\\left(\\theta \\right)} \\cos{\\left(\\phi \\right)} \\cos{\\left(\\psi \\right)}\\right) + x)\\mathbf{\\hat{n}_x} + (dxm \\sin{\\left(\\psi \\right)} \\cos{\\left(\\theta \\right)} - dym \\left(\\sin{\\left(\\phi \\right)} \\sin{\\left(\\psi \\right)} \\sin{\\left(\\theta \\right)} + \\cos{\\left(\\phi \\right)} \\cos{\\left(\\psi \\right)}\\right) + dzm \\left(\\sin{\\left(\\phi \\right)} \\cos{\\left(\\psi \\right)} - \\sin{\\left(\\psi \\right)} \\sin{\\left(\\theta \\right)} \\cos{\\left(\\phi \\right)}\\right) + y)\\mathbf{\\hat{n}_y} + (- dxm \\sin{\\left(\\theta \\right)} - dym \\sin{\\left(\\phi \\right)} \\cos{\\left(\\theta \\right)} - dzm \\cos{\\left(\\phi \\right)} \\cos{\\left(\\theta \\right)} + z)\\mathbf{\\hat{n}_z}$"
      ],
      "text/plain": [
       "(dxm*cos(psi)*cos(theta) - dym*(sin(phi)*sin(theta)*cos(psi) - sin(psi)*cos(phi)) - dzm*(sin(phi)*sin(psi) + sin(theta)*cos(phi)*cos(psi)) + x)*N.x + (dxm*sin(psi)*cos(theta) - dym*(sin(phi)*sin(psi)*sin(theta) + cos(phi)*cos(psi)) + dzm*(sin(phi)*cos(psi) - sin(psi)*sin(theta)*cos(phi)) + y)*N.y + (-dxm*sin(theta) - dym*sin(phi)*cos(theta) - dzm*cos(phi)*cos(theta) + z)*N.z"
      ]
     },
     "execution_count": 12,
     "metadata": {},
     "output_type": "execute_result"
    }
   ],
   "source": [
    "M1.pos_from(No).express(N).simplify()"
   ]
  },
  {
   "cell_type": "code",
   "execution_count": 13,
   "metadata": {},
   "outputs": [
    {
     "data": {
      "text/latex": [
       "$\\displaystyle (dxm \\cos{\\left(\\psi \\right)} \\cos{\\left(\\theta \\right)} + dym \\left(\\sin{\\left(\\phi \\right)} \\sin{\\left(\\theta \\right)} \\cos{\\left(\\psi \\right)} - \\sin{\\left(\\psi \\right)} \\cos{\\left(\\phi \\right)}\\right) - dzm \\left(\\sin{\\left(\\phi \\right)} \\sin{\\left(\\psi \\right)} + \\sin{\\left(\\theta \\right)} \\cos{\\left(\\phi \\right)} \\cos{\\left(\\psi \\right)}\\right) + x)\\mathbf{\\hat{n}_x} + (dxm \\sin{\\left(\\psi \\right)} \\cos{\\left(\\theta \\right)} + dym \\left(\\sin{\\left(\\phi \\right)} \\sin{\\left(\\psi \\right)} \\sin{\\left(\\theta \\right)} + \\cos{\\left(\\phi \\right)} \\cos{\\left(\\psi \\right)}\\right) + dzm \\left(\\sin{\\left(\\phi \\right)} \\cos{\\left(\\psi \\right)} - \\sin{\\left(\\psi \\right)} \\sin{\\left(\\theta \\right)} \\cos{\\left(\\phi \\right)}\\right) + y)\\mathbf{\\hat{n}_y} + (- dxm \\sin{\\left(\\theta \\right)} + dym \\sin{\\left(\\phi \\right)} \\cos{\\left(\\theta \\right)} - dzm \\cos{\\left(\\phi \\right)} \\cos{\\left(\\theta \\right)} + z)\\mathbf{\\hat{n}_z}$"
      ],
      "text/plain": [
       "(dxm*cos(psi)*cos(theta) + dym*(sin(phi)*sin(theta)*cos(psi) - sin(psi)*cos(phi)) - dzm*(sin(phi)*sin(psi) + sin(theta)*cos(phi)*cos(psi)) + x)*N.x + (dxm*sin(psi)*cos(theta) + dym*(sin(phi)*sin(psi)*sin(theta) + cos(phi)*cos(psi)) + dzm*(sin(phi)*cos(psi) - sin(psi)*sin(theta)*cos(phi)) + y)*N.y + (-dxm*sin(theta) + dym*sin(phi)*cos(theta) - dzm*cos(phi)*cos(theta) + z)*N.z"
      ]
     },
     "execution_count": 13,
     "metadata": {},
     "output_type": "execute_result"
    }
   ],
   "source": [
    "M2.pos_from(No).express(N).simplify()"
   ]
  },
  {
   "cell_type": "code",
   "execution_count": 14,
   "metadata": {},
   "outputs": [],
   "source": [
    "IB = inertia(B, IBxx, IByy, IBzz)\n",
    "IBc= (IB,Bcm)\n",
    "\n",
    "BodyB = RigidBody('BodyB', Bcm, B, mB, IBc)\n",
    "BodyList = [BodyB]"
   ]
  },
  {
   "cell_type": "code",
   "execution_count": 15,
   "metadata": {},
   "outputs": [],
   "source": [
    "Grav_Force = (Bcm, mB*g*B.z)\n",
    "FM1 = (M1, -ThrM1*B.z)\n",
    "FM2 = (M2, -ThrM2*B.z)\n",
    "FM3 = (M3, -ThrM3*B.z)\n",
    "FM4 = (M4, -ThrM4*B.z)\n",
    "\n",
    "TM1 = (B, -TorM1*B.z)\n",
    "TM2 = (B,  TorM2*B.z)\n",
    "TM3 = (B, -TorM3*B.z)\n",
    "TM4 = (B,  TorM4*B.z)\n",
    "ForceList = [Grav_Force, FM1, FM2, FM3, FM4, TM1, TM2, TM3, TM4]"
   ]
  },
  {
   "cell_type": "code",
   "execution_count": 16,
   "metadata": {},
   "outputs": [
    {
     "data": {
      "text/latex": [
       "$\\displaystyle \\left[ \\dot{x} - \\dot{x}, \\  \\dot{y} - \\dot{y}, \\  \\dot{z} - \\dot{z}, \\  p - \\dot{\\phi}, \\  q - \\dot{\\theta}, \\  r - \\dot{\\psi}\\right]$"
      ],
      "text/plain": [
       "[xdot - x', ydot - y', zdot - z', p - phi', q - theta', r - psi']"
      ]
     },
     "execution_count": 16,
     "metadata": {},
     "output_type": "execute_result"
    }
   ],
   "source": [
    "# Kinematic Differential Equations\n",
    "# ---------------------------\n",
    "kd = [xdot - xd, \n",
    "      ydot - yd,\n",
    "      zdot - zd,\n",
    "      p - phid,\n",
    "      q - thetad,\n",
    "      r - psid]\n",
    "kd"
   ]
  },
  {
   "cell_type": "code",
   "execution_count": 17,
   "metadata": {},
   "outputs": [],
   "source": [
    "from sympy import trigsimp\n",
    "from sympy.physics.mechanics import KanesMethod"
   ]
  },
  {
   "cell_type": "code",
   "execution_count": 18,
   "metadata": {},
   "outputs": [],
   "source": [
    "from sympy import simplify"
   ]
  },
  {
   "cell_type": "code",
   "execution_count": 19,
   "metadata": {},
   "outputs": [],
   "source": [
    "kane = KanesMethod(N, q_ind=[x, y, z, phi, theta, psi], u_ind=[xdot, ydot, zdot, p, q, r], kd_eqs=kd)\n",
    "(fr, frstar) = kane.kanes_equations(BodyList, ForceList)"
   ]
  },
  {
   "cell_type": "code",
   "execution_count": 20,
   "metadata": {},
   "outputs": [
    {
     "data": {
      "text/latex": [
       "$\\displaystyle \\left[\\begin{matrix}mB \\left(g \\sin{\\left(\\phi \\right)} \\sin{\\left(\\psi \\right)} + g \\sin{\\left(\\theta \\right)} \\cos{\\left(\\phi \\right)} \\cos{\\left(\\psi \\right)} - \\dot{\\dot{x}}\\right)\\\\mB \\left(- g \\sin{\\left(\\phi \\right)} \\cos{\\left(\\psi \\right)} + g \\sin{\\left(\\psi \\right)} \\sin{\\left(\\theta \\right)} \\cos{\\left(\\phi \\right)} - \\dot{\\dot{y}}\\right)\\\\mB \\left(g \\cos{\\left(\\phi \\right)} \\cos{\\left(\\theta \\right)} - \\dot{\\dot{z}}\\right)\\\\IBxx q r \\cos{\\left(\\theta \\right)} + IBxx \\sin{\\left(\\theta \\right)} \\dot{r} - IBxx \\dot{p} - IByy q^{2} \\sin{\\left(\\phi \\right)} \\cos{\\left(\\phi \\right)} + 2 IByy q r \\cos^{2}{\\left(\\phi \\right)} \\cos{\\left(\\theta \\right)} - IByy q r \\cos{\\left(\\theta \\right)} + IByy r^{2} \\sin{\\left(\\phi \\right)} \\cos{\\left(\\phi \\right)} \\cos^{2}{\\left(\\theta \\right)} + IBzz q^{2} \\sin{\\left(\\phi \\right)} \\cos{\\left(\\phi \\right)} - 2 IBzz q r \\cos^{2}{\\left(\\phi \\right)} \\cos{\\left(\\theta \\right)} + IBzz q r \\cos{\\left(\\theta \\right)} - IBzz r^{2} \\sin{\\left(\\phi \\right)} \\cos{\\left(\\phi \\right)} \\cos^{2}{\\left(\\theta \\right)} + ThrM_{1} dym - ThrM_{1} x \\sin{\\left(\\phi \\right)} \\sin{\\left(\\theta \\right)} \\cos{\\left(\\psi \\right)} + ThrM_{1} x \\sin{\\left(\\psi \\right)} \\cos{\\left(\\phi \\right)} - ThrM_{1} y \\sin{\\left(\\phi \\right)} \\sin{\\left(\\psi \\right)} \\sin{\\left(\\theta \\right)} - ThrM_{1} y \\cos{\\left(\\phi \\right)} \\cos{\\left(\\psi \\right)} - ThrM_{1} z \\sin{\\left(\\phi \\right)} \\cos{\\left(\\theta \\right)} - ThrM_{2} dym - ThrM_{2} x \\sin{\\left(\\phi \\right)} \\sin{\\left(\\theta \\right)} \\cos{\\left(\\psi \\right)} + ThrM_{2} x \\sin{\\left(\\psi \\right)} \\cos{\\left(\\phi \\right)} - ThrM_{2} y \\sin{\\left(\\phi \\right)} \\sin{\\left(\\psi \\right)} \\sin{\\left(\\theta \\right)} - ThrM_{2} y \\cos{\\left(\\phi \\right)} \\cos{\\left(\\psi \\right)} - ThrM_{2} z \\sin{\\left(\\phi \\right)} \\cos{\\left(\\theta \\right)} - ThrM_{3} dym - ThrM_{3} x \\sin{\\left(\\phi \\right)} \\sin{\\left(\\theta \\right)} \\cos{\\left(\\psi \\right)} + ThrM_{3} x \\sin{\\left(\\psi \\right)} \\cos{\\left(\\phi \\right)} - ThrM_{3} y \\sin{\\left(\\phi \\right)} \\sin{\\left(\\psi \\right)} \\sin{\\left(\\theta \\right)} - ThrM_{3} y \\cos{\\left(\\phi \\right)} \\cos{\\left(\\psi \\right)} - ThrM_{3} z \\sin{\\left(\\phi \\right)} \\cos{\\left(\\theta \\right)} + ThrM_{4} dym - ThrM_{4} x \\sin{\\left(\\phi \\right)} \\sin{\\left(\\theta \\right)} \\cos{\\left(\\psi \\right)} + ThrM_{4} x \\sin{\\left(\\psi \\right)} \\cos{\\left(\\phi \\right)} - ThrM_{4} y \\sin{\\left(\\phi \\right)} \\sin{\\left(\\psi \\right)} \\sin{\\left(\\theta \\right)} - ThrM_{4} y \\cos{\\left(\\phi \\right)} \\cos{\\left(\\psi \\right)} - ThrM_{4} z \\sin{\\left(\\phi \\right)} \\cos{\\left(\\theta \\right)}\\\\- IBxx p r \\cos{\\left(\\theta \\right)} + IBxx r^{2} \\sin{\\left(\\theta \\right)} \\cos{\\left(\\theta \\right)} + 2 IByy p q \\sin{\\left(\\phi \\right)} \\cos{\\left(\\phi \\right)} + 2 IByy p r \\sin^{2}{\\left(\\phi \\right)} \\cos{\\left(\\theta \\right)} - IByy p r \\cos{\\left(\\theta \\right)} - IByy r^{2} \\sin^{2}{\\left(\\phi \\right)} \\sin{\\left(\\theta \\right)} \\cos{\\left(\\theta \\right)} + IByy \\sin^{2}{\\left(\\phi \\right)} \\dot{q} - IByy \\sin{\\left(\\phi \\right)} \\cos{\\left(\\phi \\right)} \\cos{\\left(\\theta \\right)} \\dot{r} - IByy \\dot{q} - 2 IBzz p q \\sin{\\left(\\phi \\right)} \\cos{\\left(\\phi \\right)} - 2 IBzz p r \\sin^{2}{\\left(\\phi \\right)} \\cos{\\left(\\theta \\right)} + IBzz p r \\cos{\\left(\\theta \\right)} + IBzz r^{2} \\sin^{2}{\\left(\\phi \\right)} \\sin{\\left(\\theta \\right)} \\cos{\\left(\\theta \\right)} - IBzz r^{2} \\sin{\\left(\\theta \\right)} \\cos{\\left(\\theta \\right)} - IBzz \\sin^{2}{\\left(\\phi \\right)} \\dot{q} + IBzz \\sin{\\left(\\phi \\right)} \\cos{\\left(\\phi \\right)} \\cos{\\left(\\theta \\right)} \\dot{r} + ThrM_{1} dxm \\cos{\\left(\\phi \\right)} + ThrM_{1} x \\cos{\\left(\\phi \\right)} \\cos{\\left(\\psi \\right)} \\cos{\\left(\\theta \\right)} + ThrM_{1} y \\sin{\\left(\\psi \\right)} \\cos{\\left(\\phi \\right)} \\cos{\\left(\\theta \\right)} - ThrM_{1} z \\sin{\\left(\\theta \\right)} \\cos{\\left(\\phi \\right)} + ThrM_{2} dxm \\cos{\\left(\\phi \\right)} + ThrM_{2} x \\cos{\\left(\\phi \\right)} \\cos{\\left(\\psi \\right)} \\cos{\\left(\\theta \\right)} + ThrM_{2} y \\sin{\\left(\\psi \\right)} \\cos{\\left(\\phi \\right)} \\cos{\\left(\\theta \\right)} - ThrM_{2} z \\sin{\\left(\\theta \\right)} \\cos{\\left(\\phi \\right)} - ThrM_{3} dxm \\cos{\\left(\\phi \\right)} + ThrM_{3} x \\cos{\\left(\\phi \\right)} \\cos{\\left(\\psi \\right)} \\cos{\\left(\\theta \\right)} + ThrM_{3} y \\sin{\\left(\\psi \\right)} \\cos{\\left(\\phi \\right)} \\cos{\\left(\\theta \\right)} - ThrM_{3} z \\sin{\\left(\\theta \\right)} \\cos{\\left(\\phi \\right)} - ThrM_{4} dxm \\cos{\\left(\\phi \\right)} + ThrM_{4} x \\cos{\\left(\\phi \\right)} \\cos{\\left(\\psi \\right)} \\cos{\\left(\\theta \\right)} + ThrM_{4} y \\sin{\\left(\\psi \\right)} \\cos{\\left(\\phi \\right)} \\cos{\\left(\\theta \\right)} - ThrM_{4} z \\sin{\\left(\\theta \\right)} \\cos{\\left(\\phi \\right)} + TorM_{1} \\sin{\\left(\\phi \\right)} - TorM_{2} \\sin{\\left(\\phi \\right)} + TorM_{3} \\sin{\\left(\\phi \\right)} - TorM_{4} \\sin{\\left(\\phi \\right)}\\\\IBxx p q \\cos{\\left(\\theta \\right)} - 2 IBxx q r \\sin{\\left(\\theta \\right)} \\cos{\\left(\\theta \\right)} + IBxx \\sin{\\left(\\theta \\right)} \\dot{p} + IBxx \\cos^{2}{\\left(\\theta \\right)} \\dot{r} - IBxx \\dot{r} - 2 IByy p q \\cos^{2}{\\left(\\phi \\right)} \\cos{\\left(\\theta \\right)} + IByy p q \\cos{\\left(\\theta \\right)} - 2 IByy p r \\sin{\\left(\\phi \\right)} \\cos{\\left(\\phi \\right)} \\cos^{2}{\\left(\\theta \\right)} + IByy q^{2} \\sin{\\left(\\phi \\right)} \\sin{\\left(\\theta \\right)} \\cos{\\left(\\phi \\right)} - 2 IByy q r \\sin{\\left(\\theta \\right)} \\cos^{2}{\\left(\\phi \\right)} \\cos{\\left(\\theta \\right)} + 2 IByy q r \\sin{\\left(\\theta \\right)} \\cos{\\left(\\theta \\right)} - IByy \\sin{\\left(\\phi \\right)} \\cos{\\left(\\phi \\right)} \\cos{\\left(\\theta \\right)} \\dot{q} + IByy \\cos^{2}{\\left(\\phi \\right)} \\cos^{2}{\\left(\\theta \\right)} \\dot{r} - IByy \\cos^{2}{\\left(\\theta \\right)} \\dot{r} + 2 IBzz p q \\cos^{2}{\\left(\\phi \\right)} \\cos{\\left(\\theta \\right)} - IBzz p q \\cos{\\left(\\theta \\right)} + 2 IBzz p r \\sin{\\left(\\phi \\right)} \\cos{\\left(\\phi \\right)} \\cos^{2}{\\left(\\theta \\right)} - IBzz q^{2} \\sin{\\left(\\phi \\right)} \\sin{\\left(\\theta \\right)} \\cos{\\left(\\phi \\right)} + 2 IBzz q r \\sin{\\left(\\theta \\right)} \\cos^{2}{\\left(\\phi \\right)} \\cos{\\left(\\theta \\right)} + IBzz \\sin{\\left(\\phi \\right)} \\cos{\\left(\\phi \\right)} \\cos{\\left(\\theta \\right)} \\dot{q} - IBzz \\cos^{2}{\\left(\\phi \\right)} \\cos^{2}{\\left(\\theta \\right)} \\dot{r} + ThrM_{1} dxm \\sin{\\left(\\phi \\right)} \\cos{\\left(\\theta \\right)} - ThrM_{1} dym \\sin{\\left(\\theta \\right)} + ThrM_{1} x \\sin{\\left(\\phi \\right)} \\cos{\\left(\\psi \\right)} - ThrM_{1} x \\sin{\\left(\\psi \\right)} \\sin{\\left(\\theta \\right)} \\cos{\\left(\\phi \\right)} + ThrM_{1} y \\sin{\\left(\\phi \\right)} \\sin{\\left(\\psi \\right)} + ThrM_{1} y \\sin{\\left(\\theta \\right)} \\cos{\\left(\\phi \\right)} \\cos{\\left(\\psi \\right)} + ThrM_{2} dxm \\sin{\\left(\\phi \\right)} \\cos{\\left(\\theta \\right)} + ThrM_{2} dym \\sin{\\left(\\theta \\right)} + ThrM_{2} x \\sin{\\left(\\phi \\right)} \\cos{\\left(\\psi \\right)} - ThrM_{2} x \\sin{\\left(\\psi \\right)} \\sin{\\left(\\theta \\right)} \\cos{\\left(\\phi \\right)} + ThrM_{2} y \\sin{\\left(\\phi \\right)} \\sin{\\left(\\psi \\right)} + ThrM_{2} y \\sin{\\left(\\theta \\right)} \\cos{\\left(\\phi \\right)} \\cos{\\left(\\psi \\right)} - ThrM_{3} dxm \\sin{\\left(\\phi \\right)} \\cos{\\left(\\theta \\right)} + ThrM_{3} dym \\sin{\\left(\\theta \\right)} + ThrM_{3} x \\sin{\\left(\\phi \\right)} \\cos{\\left(\\psi \\right)} - ThrM_{3} x \\sin{\\left(\\psi \\right)} \\sin{\\left(\\theta \\right)} \\cos{\\left(\\phi \\right)} + ThrM_{3} y \\sin{\\left(\\phi \\right)} \\sin{\\left(\\psi \\right)} + ThrM_{3} y \\sin{\\left(\\theta \\right)} \\cos{\\left(\\phi \\right)} \\cos{\\left(\\psi \\right)} - ThrM_{4} dxm \\sin{\\left(\\phi \\right)} \\cos{\\left(\\theta \\right)} - ThrM_{4} dym \\sin{\\left(\\theta \\right)} + ThrM_{4} x \\sin{\\left(\\phi \\right)} \\cos{\\left(\\psi \\right)} - ThrM_{4} x \\sin{\\left(\\psi \\right)} \\sin{\\left(\\theta \\right)} \\cos{\\left(\\phi \\right)} + ThrM_{4} y \\sin{\\left(\\phi \\right)} \\sin{\\left(\\psi \\right)} + ThrM_{4} y \\sin{\\left(\\theta \\right)} \\cos{\\left(\\phi \\right)} \\cos{\\left(\\psi \\right)} - TorM_{1} \\cos{\\left(\\phi \\right)} \\cos{\\left(\\theta \\right)} + TorM_{2} \\cos{\\left(\\phi \\right)} \\cos{\\left(\\theta \\right)} - TorM_{3} \\cos{\\left(\\phi \\right)} \\cos{\\left(\\theta \\right)} + TorM_{4} \\cos{\\left(\\phi \\right)} \\cos{\\left(\\theta \\right)}\\end{matrix}\\right]$"
      ],
      "text/plain": [
       "Matrix([\n",
       "[                                                                                                                                                                                                                                                                                                                                                                                                                                                                                                                                                                                                                                                                                                                                                                                                                                                                                                                                                                                                                                                                                                                                                                                                                                                                                                                                                                                                                                                                                                                                                               mB*(g*sin(phi)*sin(psi) + g*sin(theta)*cos(phi)*cos(psi) - xdot')],\n",
       "[                                                                                                                                                                                                                                                                                                                                                                                                                                                                                                                                                                                                                                                                                                                                                                                                                                                                                                                                                                                                                                                                                                                                                                                                                                                                                                                                                                                                                                                                                                                                                              mB*(-g*sin(phi)*cos(psi) + g*sin(psi)*sin(theta)*cos(phi) - ydot')],\n",
       "[                                                                                                                                                                                                                                                                                                                                                                                                                                                                                                                                                                                                                                                                                                                                                                                                                                                                                                                                                                                                                                                                                                                                                                                                                                                                                                                                                                                                                                                                                                                                                                                              mB*(g*cos(phi)*cos(theta) - zdot')],\n",
       "[                                                                                                                                                                                                                                                                                                                                                                                                                                                                                                                                                                      IBxx*q*r*cos(theta) + IBxx*sin(theta)*r' - IBxx*p' - IByy*q**2*sin(phi)*cos(phi) + 2*IByy*q*r*cos(phi)**2*cos(theta) - IByy*q*r*cos(theta) + IByy*r**2*sin(phi)*cos(phi)*cos(theta)**2 + IBzz*q**2*sin(phi)*cos(phi) - 2*IBzz*q*r*cos(phi)**2*cos(theta) + IBzz*q*r*cos(theta) - IBzz*r**2*sin(phi)*cos(phi)*cos(theta)**2 + ThrM1*dym - ThrM1*x*sin(phi)*sin(theta)*cos(psi) + ThrM1*x*sin(psi)*cos(phi) - ThrM1*y*sin(phi)*sin(psi)*sin(theta) - ThrM1*y*cos(phi)*cos(psi) - ThrM1*z*sin(phi)*cos(theta) - ThrM2*dym - ThrM2*x*sin(phi)*sin(theta)*cos(psi) + ThrM2*x*sin(psi)*cos(phi) - ThrM2*y*sin(phi)*sin(psi)*sin(theta) - ThrM2*y*cos(phi)*cos(psi) - ThrM2*z*sin(phi)*cos(theta) - ThrM3*dym - ThrM3*x*sin(phi)*sin(theta)*cos(psi) + ThrM3*x*sin(psi)*cos(phi) - ThrM3*y*sin(phi)*sin(psi)*sin(theta) - ThrM3*y*cos(phi)*cos(psi) - ThrM3*z*sin(phi)*cos(theta) + ThrM4*dym - ThrM4*x*sin(phi)*sin(theta)*cos(psi) + ThrM4*x*sin(psi)*cos(phi) - ThrM4*y*sin(phi)*sin(psi)*sin(theta) - ThrM4*y*cos(phi)*cos(psi) - ThrM4*z*sin(phi)*cos(theta)],\n",
       "[                                                                                                                                                                                                                                                                                                                                                                                                                                                                                                              -IBxx*p*r*cos(theta) + IBxx*r**2*sin(theta)*cos(theta) + 2*IByy*p*q*sin(phi)*cos(phi) + 2*IByy*p*r*sin(phi)**2*cos(theta) - IByy*p*r*cos(theta) - IByy*r**2*sin(phi)**2*sin(theta)*cos(theta) + IByy*sin(phi)**2*q' - IByy*sin(phi)*cos(phi)*cos(theta)*r' - IByy*q' - 2*IBzz*p*q*sin(phi)*cos(phi) - 2*IBzz*p*r*sin(phi)**2*cos(theta) + IBzz*p*r*cos(theta) + IBzz*r**2*sin(phi)**2*sin(theta)*cos(theta) - IBzz*r**2*sin(theta)*cos(theta) - IBzz*sin(phi)**2*q' + IBzz*sin(phi)*cos(phi)*cos(theta)*r' + ThrM1*dxm*cos(phi) + ThrM1*x*cos(phi)*cos(psi)*cos(theta) + ThrM1*y*sin(psi)*cos(phi)*cos(theta) - ThrM1*z*sin(theta)*cos(phi) + ThrM2*dxm*cos(phi) + ThrM2*x*cos(phi)*cos(psi)*cos(theta) + ThrM2*y*sin(psi)*cos(phi)*cos(theta) - ThrM2*z*sin(theta)*cos(phi) - ThrM3*dxm*cos(phi) + ThrM3*x*cos(phi)*cos(psi)*cos(theta) + ThrM3*y*sin(psi)*cos(phi)*cos(theta) - ThrM3*z*sin(theta)*cos(phi) - ThrM4*dxm*cos(phi) + ThrM4*x*cos(phi)*cos(psi)*cos(theta) + ThrM4*y*sin(psi)*cos(phi)*cos(theta) - ThrM4*z*sin(theta)*cos(phi) + TorM1*sin(phi) - TorM2*sin(phi) + TorM3*sin(phi) - TorM4*sin(phi)],\n",
       "[IBxx*p*q*cos(theta) - 2*IBxx*q*r*sin(theta)*cos(theta) + IBxx*sin(theta)*p' + IBxx*cos(theta)**2*r' - IBxx*r' - 2*IByy*p*q*cos(phi)**2*cos(theta) + IByy*p*q*cos(theta) - 2*IByy*p*r*sin(phi)*cos(phi)*cos(theta)**2 + IByy*q**2*sin(phi)*sin(theta)*cos(phi) - 2*IByy*q*r*sin(theta)*cos(phi)**2*cos(theta) + 2*IByy*q*r*sin(theta)*cos(theta) - IByy*sin(phi)*cos(phi)*cos(theta)*q' + IByy*cos(phi)**2*cos(theta)**2*r' - IByy*cos(theta)**2*r' + 2*IBzz*p*q*cos(phi)**2*cos(theta) - IBzz*p*q*cos(theta) + 2*IBzz*p*r*sin(phi)*cos(phi)*cos(theta)**2 - IBzz*q**2*sin(phi)*sin(theta)*cos(phi) + 2*IBzz*q*r*sin(theta)*cos(phi)**2*cos(theta) + IBzz*sin(phi)*cos(phi)*cos(theta)*q' - IBzz*cos(phi)**2*cos(theta)**2*r' + ThrM1*dxm*sin(phi)*cos(theta) - ThrM1*dym*sin(theta) + ThrM1*x*sin(phi)*cos(psi) - ThrM1*x*sin(psi)*sin(theta)*cos(phi) + ThrM1*y*sin(phi)*sin(psi) + ThrM1*y*sin(theta)*cos(phi)*cos(psi) + ThrM2*dxm*sin(phi)*cos(theta) + ThrM2*dym*sin(theta) + ThrM2*x*sin(phi)*cos(psi) - ThrM2*x*sin(psi)*sin(theta)*cos(phi) + ThrM2*y*sin(phi)*sin(psi) + ThrM2*y*sin(theta)*cos(phi)*cos(psi) - ThrM3*dxm*sin(phi)*cos(theta) + ThrM3*dym*sin(theta) + ThrM3*x*sin(phi)*cos(psi) - ThrM3*x*sin(psi)*sin(theta)*cos(phi) + ThrM3*y*sin(phi)*sin(psi) + ThrM3*y*sin(theta)*cos(phi)*cos(psi) - ThrM4*dxm*sin(phi)*cos(theta) - ThrM4*dym*sin(theta) + ThrM4*x*sin(phi)*cos(psi) - ThrM4*x*sin(psi)*sin(theta)*cos(phi) + ThrM4*y*sin(phi)*sin(psi) + ThrM4*y*sin(theta)*cos(phi)*cos(psi) - TorM1*cos(phi)*cos(theta) + TorM2*cos(phi)*cos(theta) - TorM3*cos(phi)*cos(theta) + TorM4*cos(phi)*cos(theta)]])"
      ]
     },
     "execution_count": 20,
     "metadata": {},
     "output_type": "execute_result"
    }
   ],
   "source": [
    "trigsimp(fr + frstar)"
   ]
  },
  {
   "cell_type": "code",
   "execution_count": 21,
   "metadata": {
    "scrolled": true
   },
   "outputs": [
    {
     "data": {
      "text/latex": [
       "$\\displaystyle \\left[\\begin{array}{cccccccccccc}1 & 0 & 0 & 0 & 0 & 0 & 0 & 0 & 0 & 0 & 0 & 0\\\\0 & 1 & 0 & 0 & 0 & 0 & 0 & 0 & 0 & 0 & 0 & 0\\\\0 & 0 & 1 & 0 & 0 & 0 & 0 & 0 & 0 & 0 & 0 & 0\\\\0 & 0 & 0 & 1 & 0 & 0 & 0 & 0 & 0 & 0 & 0 & 0\\\\0 & 0 & 0 & 0 & 1 & 0 & 0 & 0 & 0 & 0 & 0 & 0\\\\0 & 0 & 0 & 0 & 0 & 1 & 0 & 0 & 0 & 0 & 0 & 0\\\\0 & 0 & 0 & 0 & 0 & 0 & mB & 0 & 0 & 0 & 0 & 0\\\\0 & 0 & 0 & 0 & 0 & 0 & 0 & mB & 0 & 0 & 0 & 0\\\\0 & 0 & 0 & 0 & 0 & 0 & 0 & 0 & mB & 0 & 0 & 0\\\\0 & 0 & 0 & 0 & 0 & 0 & 0 & 0 & 0 & IBxx & 0 & - IBxx \\sin{\\left(\\theta \\right)}\\\\0 & 0 & 0 & 0 & 0 & 0 & 0 & 0 & 0 & 0 & IByy \\cos^{2}{\\left(\\phi \\right)} + IBzz \\sin^{2}{\\left(\\phi \\right)} & \\left(IByy - IBzz\\right) \\sin{\\left(\\phi \\right)} \\cos{\\left(\\phi \\right)} \\cos{\\left(\\theta \\right)}\\\\0 & 0 & 0 & 0 & 0 & 0 & 0 & 0 & 0 & - IBxx \\sin{\\left(\\theta \\right)} & \\left(IByy - IBzz\\right) \\sin{\\left(\\phi \\right)} \\cos{\\left(\\phi \\right)} \\cos{\\left(\\theta \\right)} & IBxx \\sin^{2}{\\left(\\theta \\right)} + IByy \\sin^{2}{\\left(\\phi \\right)} \\cos^{2}{\\left(\\theta \\right)} + IBzz \\cos^{2}{\\left(\\phi \\right)} \\cos^{2}{\\left(\\theta \\right)}\\end{array}\\right]$"
      ],
      "text/plain": [
       "Matrix([\n",
       "[1, 0, 0, 0, 0, 0,  0,  0,  0,                0,                                          0,                                                                                    0],\n",
       "[0, 1, 0, 0, 0, 0,  0,  0,  0,                0,                                          0,                                                                                    0],\n",
       "[0, 0, 1, 0, 0, 0,  0,  0,  0,                0,                                          0,                                                                                    0],\n",
       "[0, 0, 0, 1, 0, 0,  0,  0,  0,                0,                                          0,                                                                                    0],\n",
       "[0, 0, 0, 0, 1, 0,  0,  0,  0,                0,                                          0,                                                                                    0],\n",
       "[0, 0, 0, 0, 0, 1,  0,  0,  0,                0,                                          0,                                                                                    0],\n",
       "[0, 0, 0, 0, 0, 0, mB,  0,  0,                0,                                          0,                                                                                    0],\n",
       "[0, 0, 0, 0, 0, 0,  0, mB,  0,                0,                                          0,                                                                                    0],\n",
       "[0, 0, 0, 0, 0, 0,  0,  0, mB,                0,                                          0,                                                                                    0],\n",
       "[0, 0, 0, 0, 0, 0,  0,  0,  0,             IBxx,                                          0,                                                                     -IBxx*sin(theta)],\n",
       "[0, 0, 0, 0, 0, 0,  0,  0,  0,                0,        IByy*cos(phi)**2 + IBzz*sin(phi)**2,                                           (IByy - IBzz)*sin(phi)*cos(phi)*cos(theta)],\n",
       "[0, 0, 0, 0, 0, 0,  0,  0,  0, -IBxx*sin(theta), (IByy - IBzz)*sin(phi)*cos(phi)*cos(theta), IBxx*sin(theta)**2 + IByy*sin(phi)**2*cos(theta)**2 + IBzz*cos(phi)**2*cos(theta)**2]])"
      ]
     },
     "execution_count": 21,
     "metadata": {},
     "output_type": "execute_result"
    }
   ],
   "source": [
    "mass_matrix = trigsimp(kane.mass_matrix_full)\n",
    "mass_matrix"
   ]
  },
  {
   "cell_type": "code",
   "execution_count": 22,
   "metadata": {},
   "outputs": [
    {
     "data": {
      "text/latex": [
       "$\\displaystyle \\left[\\begin{matrix}\\dot{x}\\\\\\dot{y}\\\\\\dot{z}\\\\p\\\\q\\\\r\\\\g mB \\left(\\sin{\\left(\\phi \\right)} \\sin{\\left(\\psi \\right)} + \\sin{\\left(\\theta \\right)} \\cos{\\left(\\phi \\right)} \\cos{\\left(\\psi \\right)}\\right)\\\\g mB \\left(- \\sin{\\left(\\phi \\right)} \\cos{\\left(\\psi \\right)} + \\sin{\\left(\\psi \\right)} \\sin{\\left(\\theta \\right)} \\cos{\\left(\\phi \\right)}\\right)\\\\g mB \\cos{\\left(\\phi \\right)} \\cos{\\left(\\theta \\right)}\\\\IBxx q r \\cos{\\left(\\theta \\right)} - \\frac{IByy q^{2} \\sin{\\left(2 \\phi \\right)}}{2} + 2 IByy q r \\cos^{2}{\\left(\\phi \\right)} \\cos{\\left(\\theta \\right)} - IByy q r \\cos{\\left(\\theta \\right)} + IByy r^{2} \\sin{\\left(\\phi \\right)} \\cos{\\left(\\phi \\right)} \\cos^{2}{\\left(\\theta \\right)} + \\frac{IBzz q^{2} \\sin{\\left(2 \\phi \\right)}}{2} - 2 IBzz q r \\cos^{2}{\\left(\\phi \\right)} \\cos{\\left(\\theta \\right)} + IBzz q r \\cos{\\left(\\theta \\right)} - IBzz r^{2} \\sin{\\left(\\phi \\right)} \\cos{\\left(\\phi \\right)} \\cos^{2}{\\left(\\theta \\right)} + ThrM_{1} dym - ThrM_{1} x \\sin{\\left(\\phi \\right)} \\sin{\\left(\\theta \\right)} \\cos{\\left(\\psi \\right)} + ThrM_{1} x \\sin{\\left(\\psi \\right)} \\cos{\\left(\\phi \\right)} - ThrM_{1} y \\sin{\\left(\\phi \\right)} \\sin{\\left(\\psi \\right)} \\sin{\\left(\\theta \\right)} - ThrM_{1} y \\cos{\\left(\\phi \\right)} \\cos{\\left(\\psi \\right)} - ThrM_{1} z \\sin{\\left(\\phi \\right)} \\cos{\\left(\\theta \\right)} - ThrM_{2} dym - ThrM_{2} x \\sin{\\left(\\phi \\right)} \\sin{\\left(\\theta \\right)} \\cos{\\left(\\psi \\right)} + ThrM_{2} x \\sin{\\left(\\psi \\right)} \\cos{\\left(\\phi \\right)} - ThrM_{2} y \\sin{\\left(\\phi \\right)} \\sin{\\left(\\psi \\right)} \\sin{\\left(\\theta \\right)} - ThrM_{2} y \\cos{\\left(\\phi \\right)} \\cos{\\left(\\psi \\right)} - ThrM_{2} z \\sin{\\left(\\phi \\right)} \\cos{\\left(\\theta \\right)} - ThrM_{3} dym - ThrM_{3} x \\sin{\\left(\\phi \\right)} \\sin{\\left(\\theta \\right)} \\cos{\\left(\\psi \\right)} + ThrM_{3} x \\sin{\\left(\\psi \\right)} \\cos{\\left(\\phi \\right)} - ThrM_{3} y \\sin{\\left(\\phi \\right)} \\sin{\\left(\\psi \\right)} \\sin{\\left(\\theta \\right)} - ThrM_{3} y \\cos{\\left(\\phi \\right)} \\cos{\\left(\\psi \\right)} - ThrM_{3} z \\sin{\\left(\\phi \\right)} \\cos{\\left(\\theta \\right)} + ThrM_{4} dym - ThrM_{4} x \\sin{\\left(\\phi \\right)} \\sin{\\left(\\theta \\right)} \\cos{\\left(\\psi \\right)} + ThrM_{4} x \\sin{\\left(\\psi \\right)} \\cos{\\left(\\phi \\right)} - ThrM_{4} y \\sin{\\left(\\phi \\right)} \\sin{\\left(\\psi \\right)} \\sin{\\left(\\theta \\right)} - ThrM_{4} y \\cos{\\left(\\phi \\right)} \\cos{\\left(\\psi \\right)} - ThrM_{4} z \\sin{\\left(\\phi \\right)} \\cos{\\left(\\theta \\right)}\\\\- IBxx p r \\cos{\\left(\\theta \\right)} + \\frac{IBxx r^{2} \\sin{\\left(2 \\theta \\right)}}{2} + IByy p q \\sin{\\left(2 \\phi \\right)} + 2 IByy p r \\sin^{2}{\\left(\\phi \\right)} \\cos{\\left(\\theta \\right)} - IByy p r \\cos{\\left(\\theta \\right)} - IByy r^{2} \\sin^{2}{\\left(\\phi \\right)} \\sin{\\left(\\theta \\right)} \\cos{\\left(\\theta \\right)} - IBzz p q \\sin{\\left(2 \\phi \\right)} - 2 IBzz p r \\sin^{2}{\\left(\\phi \\right)} \\cos{\\left(\\theta \\right)} + IBzz p r \\cos{\\left(\\theta \\right)} + IBzz r^{2} \\sin^{2}{\\left(\\phi \\right)} \\sin{\\left(\\theta \\right)} \\cos{\\left(\\theta \\right)} - \\frac{IBzz r^{2} \\sin{\\left(2 \\theta \\right)}}{2} + ThrM_{1} dxm \\cos{\\left(\\phi \\right)} + ThrM_{1} x \\cos{\\left(\\phi \\right)} \\cos{\\left(\\psi \\right)} \\cos{\\left(\\theta \\right)} + ThrM_{1} y \\sin{\\left(\\psi \\right)} \\cos{\\left(\\phi \\right)} \\cos{\\left(\\theta \\right)} - ThrM_{1} z \\sin{\\left(\\theta \\right)} \\cos{\\left(\\phi \\right)} + ThrM_{2} dxm \\cos{\\left(\\phi \\right)} + ThrM_{2} x \\cos{\\left(\\phi \\right)} \\cos{\\left(\\psi \\right)} \\cos{\\left(\\theta \\right)} + ThrM_{2} y \\sin{\\left(\\psi \\right)} \\cos{\\left(\\phi \\right)} \\cos{\\left(\\theta \\right)} - ThrM_{2} z \\sin{\\left(\\theta \\right)} \\cos{\\left(\\phi \\right)} - ThrM_{3} dxm \\cos{\\left(\\phi \\right)} + ThrM_{3} x \\cos{\\left(\\phi \\right)} \\cos{\\left(\\psi \\right)} \\cos{\\left(\\theta \\right)} + ThrM_{3} y \\sin{\\left(\\psi \\right)} \\cos{\\left(\\phi \\right)} \\cos{\\left(\\theta \\right)} - ThrM_{3} z \\sin{\\left(\\theta \\right)} \\cos{\\left(\\phi \\right)} - ThrM_{4} dxm \\cos{\\left(\\phi \\right)} + ThrM_{4} x \\cos{\\left(\\phi \\right)} \\cos{\\left(\\psi \\right)} \\cos{\\left(\\theta \\right)} + ThrM_{4} y \\sin{\\left(\\psi \\right)} \\cos{\\left(\\phi \\right)} \\cos{\\left(\\theta \\right)} - ThrM_{4} z \\sin{\\left(\\theta \\right)} \\cos{\\left(\\phi \\right)} + TorM_{1} \\sin{\\left(\\phi \\right)} - TorM_{2} \\sin{\\left(\\phi \\right)} + TorM_{3} \\sin{\\left(\\phi \\right)} - TorM_{4} \\sin{\\left(\\phi \\right)}\\\\IBxx p q \\cos{\\left(\\theta \\right)} - IBxx q r \\sin{\\left(2 \\theta \\right)} + \\frac{IByy \\left(\\cos{\\left(2 \\phi - \\theta \\right)} - \\cos{\\left(2 \\phi + \\theta \\right)}\\right) q^{2}}{4} - 2 IByy p q \\cos^{2}{\\left(\\phi \\right)} \\cos{\\left(\\theta \\right)} + IByy p q \\cos{\\left(\\theta \\right)} - 2 IByy p r \\sin{\\left(\\phi \\right)} \\cos{\\left(\\phi \\right)} \\cos^{2}{\\left(\\theta \\right)} - 2 IByy q r \\sin{\\left(\\theta \\right)} \\cos^{2}{\\left(\\phi \\right)} \\cos{\\left(\\theta \\right)} + IByy q r \\sin{\\left(2 \\theta \\right)} - \\frac{IBzz \\left(\\cos{\\left(2 \\phi - \\theta \\right)} - \\cos{\\left(2 \\phi + \\theta \\right)}\\right) q^{2}}{4} + 2 IBzz p q \\cos^{2}{\\left(\\phi \\right)} \\cos{\\left(\\theta \\right)} - IBzz p q \\cos{\\left(\\theta \\right)} + 2 IBzz p r \\sin{\\left(\\phi \\right)} \\cos{\\left(\\phi \\right)} \\cos^{2}{\\left(\\theta \\right)} + 2 IBzz q r \\sin{\\left(\\theta \\right)} \\cos^{2}{\\left(\\phi \\right)} \\cos{\\left(\\theta \\right)} + ThrM_{1} dxm \\sin{\\left(\\phi \\right)} \\cos{\\left(\\theta \\right)} - ThrM_{1} dym \\sin{\\left(\\theta \\right)} + ThrM_{1} x \\sin{\\left(\\phi \\right)} \\cos{\\left(\\psi \\right)} - ThrM_{1} x \\sin{\\left(\\psi \\right)} \\sin{\\left(\\theta \\right)} \\cos{\\left(\\phi \\right)} + ThrM_{1} y \\sin{\\left(\\phi \\right)} \\sin{\\left(\\psi \\right)} + ThrM_{1} y \\sin{\\left(\\theta \\right)} \\cos{\\left(\\phi \\right)} \\cos{\\left(\\psi \\right)} + ThrM_{2} dxm \\sin{\\left(\\phi \\right)} \\cos{\\left(\\theta \\right)} + ThrM_{2} dym \\sin{\\left(\\theta \\right)} + ThrM_{2} x \\sin{\\left(\\phi \\right)} \\cos{\\left(\\psi \\right)} - ThrM_{2} x \\sin{\\left(\\psi \\right)} \\sin{\\left(\\theta \\right)} \\cos{\\left(\\phi \\right)} + ThrM_{2} y \\sin{\\left(\\phi \\right)} \\sin{\\left(\\psi \\right)} + ThrM_{2} y \\sin{\\left(\\theta \\right)} \\cos{\\left(\\phi \\right)} \\cos{\\left(\\psi \\right)} - ThrM_{3} dxm \\sin{\\left(\\phi \\right)} \\cos{\\left(\\theta \\right)} + ThrM_{3} dym \\sin{\\left(\\theta \\right)} + ThrM_{3} x \\sin{\\left(\\phi \\right)} \\cos{\\left(\\psi \\right)} - ThrM_{3} x \\sin{\\left(\\psi \\right)} \\sin{\\left(\\theta \\right)} \\cos{\\left(\\phi \\right)} + ThrM_{3} y \\sin{\\left(\\phi \\right)} \\sin{\\left(\\psi \\right)} + ThrM_{3} y \\sin{\\left(\\theta \\right)} \\cos{\\left(\\phi \\right)} \\cos{\\left(\\psi \\right)} - ThrM_{4} dxm \\sin{\\left(\\phi \\right)} \\cos{\\left(\\theta \\right)} - ThrM_{4} dym \\sin{\\left(\\theta \\right)} + ThrM_{4} x \\sin{\\left(\\phi \\right)} \\cos{\\left(\\psi \\right)} - ThrM_{4} x \\sin{\\left(\\psi \\right)} \\sin{\\left(\\theta \\right)} \\cos{\\left(\\phi \\right)} + ThrM_{4} y \\sin{\\left(\\phi \\right)} \\sin{\\left(\\psi \\right)} + ThrM_{4} y \\sin{\\left(\\theta \\right)} \\cos{\\left(\\phi \\right)} \\cos{\\left(\\psi \\right)} - TorM_{1} \\cos{\\left(\\phi \\right)} \\cos{\\left(\\theta \\right)} + TorM_{2} \\cos{\\left(\\phi \\right)} \\cos{\\left(\\theta \\right)} - TorM_{3} \\cos{\\left(\\phi \\right)} \\cos{\\left(\\theta \\right)} + TorM_{4} \\cos{\\left(\\phi \\right)} \\cos{\\left(\\theta \\right)}\\end{matrix}\\right]$"
      ],
      "text/plain": [
       "Matrix([\n",
       "[                                                                                                                                                                                                                                                                                                                                                                                                                                                                                                                                                                                                                                                                                                                                                                                                                                                                                                                                                                                                                                                                                                                                                                                                                                                                                                                                                                                               xdot],\n",
       "[                                                                                                                                                                                                                                                                                                                                                                                                                                                                                                                                                                                                                                                                                                                                                                                                                                                                                                                                                                                                                                                                                                                                                                                                                                                                                                                                                                                               ydot],\n",
       "[                                                                                                                                                                                                                                                                                                                                                                                                                                                                                                                                                                                                                                                                                                                                                                                                                                                                                                                                                                                                                                                                                                                                                                                                                                                                                                                                                                                               zdot],\n",
       "[                                                                                                                                                                                                                                                                                                                                                                                                                                                                                                                                                                                                                                                                                                                                                                                                                                                                                                                                                                                                                                                                                                                                                                                                                                                                                                                                                                                                  p],\n",
       "[                                                                                                                                                                                                                                                                                                                                                                                                                                                                                                                                                                                                                                                                                                                                                                                                                                                                                                                                                                                                                                                                                                                                                                                                                                                                                                                                                                                                  q],\n",
       "[                                                                                                                                                                                                                                                                                                                                                                                                                                                                                                                                                                                                                                                                                                                                                                                                                                                                                                                                                                                                                                                                                                                                                                                                                                                                                                                                                                                                  r],\n",
       "[                                                                                                                                                                                                                                                                                                                                                                                                                                                                                                                                                                                                                                                                                                                                                                                                                                                                                                                                                                                                                                                                                                                                                                                                                                                                                                                                            g*mB*(sin(phi)*sin(psi) + sin(theta)*cos(phi)*cos(psi))],\n",
       "[                                                                                                                                                                                                                                                                                                                                                                                                                                                                                                                                                                                                                                                                                                                                                                                                                                                                                                                                                                                                                                                                                                                                                                                                                                                                                                                                           g*mB*(-sin(phi)*cos(psi) + sin(psi)*sin(theta)*cos(phi))],\n",
       "[                                                                                                                                                                                                                                                                                                                                                                                                                                                                                                                                                                                                                                                                                                                                                                                                                                                                                                                                                                                                                                                                                                                                                                                                                                                                                                                                                                           g*mB*cos(phi)*cos(theta)],\n",
       "[                                                                                                                                                                                                                                                                                                                                                                                  IBxx*q*r*cos(theta) - IByy*q**2*sin(2*phi)/2 + 2*IByy*q*r*cos(phi)**2*cos(theta) - IByy*q*r*cos(theta) + IByy*r**2*sin(phi)*cos(phi)*cos(theta)**2 + IBzz*q**2*sin(2*phi)/2 - 2*IBzz*q*r*cos(phi)**2*cos(theta) + IBzz*q*r*cos(theta) - IBzz*r**2*sin(phi)*cos(phi)*cos(theta)**2 + ThrM1*dym - ThrM1*x*sin(phi)*sin(theta)*cos(psi) + ThrM1*x*sin(psi)*cos(phi) - ThrM1*y*sin(phi)*sin(psi)*sin(theta) - ThrM1*y*cos(phi)*cos(psi) - ThrM1*z*sin(phi)*cos(theta) - ThrM2*dym - ThrM2*x*sin(phi)*sin(theta)*cos(psi) + ThrM2*x*sin(psi)*cos(phi) - ThrM2*y*sin(phi)*sin(psi)*sin(theta) - ThrM2*y*cos(phi)*cos(psi) - ThrM2*z*sin(phi)*cos(theta) - ThrM3*dym - ThrM3*x*sin(phi)*sin(theta)*cos(psi) + ThrM3*x*sin(psi)*cos(phi) - ThrM3*y*sin(phi)*sin(psi)*sin(theta) - ThrM3*y*cos(phi)*cos(psi) - ThrM3*z*sin(phi)*cos(theta) + ThrM4*dym - ThrM4*x*sin(phi)*sin(theta)*cos(psi) + ThrM4*x*sin(psi)*cos(phi) - ThrM4*y*sin(phi)*sin(psi)*sin(theta) - ThrM4*y*cos(phi)*cos(psi) - ThrM4*z*sin(phi)*cos(theta)],\n",
       "[                                                                                                                                                                                                                                                                                                                                                                                                                                                     -IBxx*p*r*cos(theta) + IBxx*r**2*sin(2*theta)/2 + IByy*p*q*sin(2*phi) + 2*IByy*p*r*sin(phi)**2*cos(theta) - IByy*p*r*cos(theta) - IByy*r**2*sin(phi)**2*sin(theta)*cos(theta) - IBzz*p*q*sin(2*phi) - 2*IBzz*p*r*sin(phi)**2*cos(theta) + IBzz*p*r*cos(theta) + IBzz*r**2*sin(phi)**2*sin(theta)*cos(theta) - IBzz*r**2*sin(2*theta)/2 + ThrM1*dxm*cos(phi) + ThrM1*x*cos(phi)*cos(psi)*cos(theta) + ThrM1*y*sin(psi)*cos(phi)*cos(theta) - ThrM1*z*sin(theta)*cos(phi) + ThrM2*dxm*cos(phi) + ThrM2*x*cos(phi)*cos(psi)*cos(theta) + ThrM2*y*sin(psi)*cos(phi)*cos(theta) - ThrM2*z*sin(theta)*cos(phi) - ThrM3*dxm*cos(phi) + ThrM3*x*cos(phi)*cos(psi)*cos(theta) + ThrM3*y*sin(psi)*cos(phi)*cos(theta) - ThrM3*z*sin(theta)*cos(phi) - ThrM4*dxm*cos(phi) + ThrM4*x*cos(phi)*cos(psi)*cos(theta) + ThrM4*y*sin(psi)*cos(phi)*cos(theta) - ThrM4*z*sin(theta)*cos(phi) + TorM1*sin(phi) - TorM2*sin(phi) + TorM3*sin(phi) - TorM4*sin(phi)],\n",
       "[IBxx*p*q*cos(theta) - IBxx*q*r*sin(2*theta) + IByy*(cos(2*phi - theta) - cos(2*phi + theta))*q**2/4 - 2*IByy*p*q*cos(phi)**2*cos(theta) + IByy*p*q*cos(theta) - 2*IByy*p*r*sin(phi)*cos(phi)*cos(theta)**2 - 2*IByy*q*r*sin(theta)*cos(phi)**2*cos(theta) + IByy*q*r*sin(2*theta) - IBzz*(cos(2*phi - theta) - cos(2*phi + theta))*q**2/4 + 2*IBzz*p*q*cos(phi)**2*cos(theta) - IBzz*p*q*cos(theta) + 2*IBzz*p*r*sin(phi)*cos(phi)*cos(theta)**2 + 2*IBzz*q*r*sin(theta)*cos(phi)**2*cos(theta) + ThrM1*dxm*sin(phi)*cos(theta) - ThrM1*dym*sin(theta) + ThrM1*x*sin(phi)*cos(psi) - ThrM1*x*sin(psi)*sin(theta)*cos(phi) + ThrM1*y*sin(phi)*sin(psi) + ThrM1*y*sin(theta)*cos(phi)*cos(psi) + ThrM2*dxm*sin(phi)*cos(theta) + ThrM2*dym*sin(theta) + ThrM2*x*sin(phi)*cos(psi) - ThrM2*x*sin(psi)*sin(theta)*cos(phi) + ThrM2*y*sin(phi)*sin(psi) + ThrM2*y*sin(theta)*cos(phi)*cos(psi) - ThrM3*dxm*sin(phi)*cos(theta) + ThrM3*dym*sin(theta) + ThrM3*x*sin(phi)*cos(psi) - ThrM3*x*sin(psi)*sin(theta)*cos(phi) + ThrM3*y*sin(phi)*sin(psi) + ThrM3*y*sin(theta)*cos(phi)*cos(psi) - ThrM4*dxm*sin(phi)*cos(theta) - ThrM4*dym*sin(theta) + ThrM4*x*sin(phi)*cos(psi) - ThrM4*x*sin(psi)*sin(theta)*cos(phi) + ThrM4*y*sin(phi)*sin(psi) + ThrM4*y*sin(theta)*cos(phi)*cos(psi) - TorM1*cos(phi)*cos(theta) + TorM2*cos(phi)*cos(theta) - TorM3*cos(phi)*cos(theta) + TorM4*cos(phi)*cos(theta)]])"
      ]
     },
     "execution_count": 22,
     "metadata": {},
     "output_type": "execute_result"
    }
   ],
   "source": [
    "forcing_vector = trigsimp(kane.forcing_full)\n",
    "simplify(forcing_vector)"
   ]
  },
  {
   "cell_type": "code",
   "execution_count": 23,
   "metadata": {},
   "outputs": [],
   "source": [
    "from numpy import deg2rad, rad2deg, array, zeros, linspace\n",
    "from scipy.integrate import odeint"
   ]
  },
  {
   "cell_type": "code",
   "execution_count": 24,
   "metadata": {},
   "outputs": [
    {
     "name": "stderr",
     "output_type": "stream",
     "text": [
      "C:\\Users\\Mahdi\\anaconda3\\lib\\site-packages\\sympy\\printing\\ccode.py:8: SymPyDeprecationWarning: \n",
      "\n",
      "importing from sympy.printing.ccode has been deprecated since SymPy\n",
      "1.7. Use Import from sympy.printing.c instead. See\n",
      "https://github.com/sympy/sympy/issues/20256 for more info.\n",
      "\n",
      "  SymPyDeprecationWarning(\n"
     ]
    }
   ],
   "source": [
    "from pydy.codegen.ode_function_generators import generate_ode_function"
   ]
  },
  {
   "cell_type": "code",
   "execution_count": 25,
   "metadata": {},
   "outputs": [],
   "source": [
    "%matplotlib inline"
   ]
  },
  {
   "cell_type": "code",
   "execution_count": 26,
   "metadata": {},
   "outputs": [],
   "source": [
    "from matplotlib.pyplot import plot, legend, xlabel, ylabel, rcParams"
   ]
  },
  {
   "cell_type": "code",
   "execution_count": 27,
   "metadata": {},
   "outputs": [
    {
     "data": {
      "text/latex": [
       "$\\displaystyle \\left[ x, \\  y, \\  z, \\  \\phi, \\  \\theta, \\  \\psi\\right]$"
      ],
      "text/plain": [
       "[x, y, z, phi, theta, psi]"
      ]
     },
     "execution_count": 27,
     "metadata": {},
     "output_type": "execute_result"
    }
   ],
   "source": [
    "coordinates = [x, y, z, phi, theta, psi]\n",
    "coordinates"
   ]
  },
  {
   "cell_type": "code",
   "execution_count": 28,
   "metadata": {},
   "outputs": [
    {
     "data": {
      "text/latex": [
       "$\\displaystyle \\left[ \\dot{x}, \\  \\dot{y}, \\  \\dot{z}, \\  p, \\  q, \\  r\\right]$"
      ],
      "text/plain": [
       "[xdot, ydot, zdot, p, q, r]"
      ]
     },
     "execution_count": 28,
     "metadata": {},
     "output_type": "execute_result"
    }
   ],
   "source": [
    "speeds = [xdot, ydot, zdot, p, q, r]\n",
    "speeds"
   ]
  },
  {
   "cell_type": "code",
   "execution_count": 29,
   "metadata": {},
   "outputs": [
    {
     "data": {
      "text/latex": [
       "$\\displaystyle \\left[ mB, \\  g, \\  dxm, \\  dym, \\  dzm, \\  IBxx, \\  IByy, \\  IBzz\\right]$"
      ],
      "text/plain": [
       "[mB, g, dxm, dym, dzm, IBxx, IByy, IBzz]"
      ]
     },
     "execution_count": 29,
     "metadata": {},
     "output_type": "execute_result"
    }
   ],
   "source": [
    "constants= [mB,\n",
    "            g,\n",
    "            dxm,\n",
    "            dym,\n",
    "            dzm,\n",
    "            IBxx,\n",
    "            IByy,\n",
    "            IBzz,\n",
    "           ]\n",
    "constants"
   ]
  },
  {
   "cell_type": "code",
   "execution_count": 30,
   "metadata": {},
   "outputs": [],
   "source": [
    "specified= [ThrM1, \n",
    "            ThrM2,\n",
    "            ThrM3,\n",
    "            ThrM4, \n",
    "            TorM1,\n",
    "            TorM2,\n",
    "            TorM3,\n",
    "            TorM4]\n"
   ]
  },
  {
   "cell_type": "code",
   "execution_count": 31,
   "metadata": {},
   "outputs": [],
   "source": [
    "right_hand_side = generate_ode_function(forcing_vector, coordinates,\n",
    "                                        speeds, constants,\n",
    "                                        mass_matrix= mass_matrix,\n",
    "                                        specifieds=specified)"
   ]
  },
  {
   "cell_type": "code",
   "execution_count": null,
   "metadata": {},
   "outputs": [],
   "source": []
  },
  {
   "cell_type": "code",
   "execution_count": null,
   "metadata": {},
   "outputs": [],
   "source": []
  },
  {
   "cell_type": "code",
   "execution_count": 32,
   "metadata": {},
   "outputs": [
    {
     "data": {
      "text/plain": [
       "array([0., 0., 0., 0., 0., 0., 0., 0., 0., 0., 0., 0.])"
      ]
     },
     "execution_count": 32,
     "metadata": {},
     "output_type": "execute_result"
    }
   ],
   "source": [
    "x0 = zeros(12)\n",
    "x0"
   ]
  },
  {
   "cell_type": "code",
   "execution_count": 33,
   "metadata": {},
   "outputs": [
    {
     "data": {
      "text/plain": [
       "array([0.03490659, 0.03490659, 0.03490659, 0.03490659, 0.03490659,\n",
       "       0.03490659, 0.03490659, 0.03490659, 0.        , 0.        ,\n",
       "       0.        , 0.        ])"
      ]
     },
     "execution_count": 33,
     "metadata": {},
     "output_type": "execute_result"
    }
   ],
   "source": [
    "x0[:8] = deg2rad(2.0)\n",
    "x0"
   ]
  },
  {
   "cell_type": "code",
   "execution_count": 34,
   "metadata": {},
   "outputs": [],
   "source": [
    "numerical_constants = array([1.8,\n",
    "                             9.81,\n",
    "                             0.145,\n",
    "                             0.145,\n",
    "                             0.05,\n",
    "                             0.00706,\n",
    "                             0.00706,\n",
    "                             0.007865,]\n",
    "                            ) "
   ]
  },
  {
   "cell_type": "code",
   "execution_count": 35,
   "metadata": {},
   "outputs": [],
   "source": [
    "numerical_specified = zeros(8)\n",
    "\n",
    "args = {'constants': numerical_constants,\n",
    "        'specified': numerical_specified}\n",
    "\n",
    "frames_per_sec = 60\n",
    "final_time = 10\n",
    "t = linspace(0, final_time, final_time * frames_per_sec)"
   ]
  },
  {
   "cell_type": "code",
   "execution_count": 36,
   "metadata": {},
   "outputs": [
    {
     "data": {
      "text/plain": [
       "array([ 0.03490659,  0.03490659,  0.        ,  0.        ,  0.        ,\n",
       "        0.        ,  0.35389541, -0.33021445,  9.79805167,  0.        ,\n",
       "        0.        ,  0.        ])"
      ]
     },
     "execution_count": 36,
     "metadata": {},
     "output_type": "execute_result"
    }
   ],
   "source": [
    "right_hand_side(x0, 0.0, numerical_specified, numerical_constants)"
   ]
  },
  {
   "cell_type": "code",
   "execution_count": 37,
   "metadata": {},
   "outputs": [],
   "source": [
    "y = odeint(right_hand_side, x0, t, args=(numerical_specified, numerical_constants))"
   ]
  },
  {
   "cell_type": "code",
   "execution_count": 38,
   "metadata": {},
   "outputs": [
    {
     "data": {
      "text/latex": [
       "$\\displaystyle \\left( 600, \\  12\\right)$"
      ],
      "text/plain": [
       "(600, 12)"
      ]
     },
     "execution_count": 38,
     "metadata": {},
     "output_type": "execute_result"
    }
   ],
   "source": [
    "y.shape"
   ]
  },
  {
   "cell_type": "code",
   "execution_count": 39,
   "metadata": {},
   "outputs": [
    {
     "data": {
      "text/plain": [
       "<matplotlib.legend.Legend at 0x24adccf2460>"
      ]
     },
     "execution_count": 39,
     "metadata": {},
     "output_type": "execute_result"
    },
    {
     "data": {
      "application/pdf": "[encoded data removed]",
      "image/png": "[encoded data removed]",
      "text/plain": [
       "<Figure size 432x288 with 1 Axes>"
      ]
     },
     "metadata": {
      "needs_background": "light"
     },
     "output_type": "display_data"
    }
   ],
   "source": [
    "plot(t, rad2deg(y[:, :8]))\n",
    "xlabel('Time [s]')\n",
    "ylabel('Distance [m]]')\n",
    "legend([\"${}$\".format(vlatex(c)) for c in coordinates])"
   ]
  },
  {
   "cell_type": "code",
   "execution_count": 40,
   "metadata": {},
   "outputs": [
    {
     "data": {
      "text/plain": [
       "<matplotlib.legend.Legend at 0x24add57d8e0>"
      ]
     },
     "execution_count": 40,
     "metadata": {},
     "output_type": "execute_result"
    },
    {
     "data": {
      "application/pdf": "[encoded data removed]",
      "image/png": "[encoded data removed]",
      "text/plain": [
       "<Figure size 432x288 with 1 Axes>"
      ]
     },
     "metadata": {
      "needs_background": "light"
     },
     "output_type": "display_data"
    }
   ],
   "source": [
    "plot(t, rad2deg(y[:, 8:]))\n",
    "xlabel('Time [s]')\n",
    "ylabel('Velocity [m/s]')\n",
    "legend([\"${}$\".format(vlatex(s)) for s in speeds])"
   ]
  },
  {
   "cell_type": "code",
   "execution_count": 41,
   "metadata": {},
   "outputs": [
    {
     "data": {
      "text/plain": [
       "['Cube',\n",
       " 'Cylinder',\n",
       " 'Cone',\n",
       " 'Sphere',\n",
       " 'Circle',\n",
       " 'Plane',\n",
       " 'Tetrahedron',\n",
       " 'Octahedron',\n",
       " 'Icosahedron',\n",
       " 'Torus',\n",
       " 'TorusKnot',\n",
       " 'Tube']"
      ]
     },
     "execution_count": 41,
     "metadata": {},
     "output_type": "execute_result"
    }
   ],
   "source": [
    "from pydy.viz.shapes import Cylinder, Sphere\n",
    "import pydy.viz\n",
    "pydy.viz.shapes.__all__"
   ]
  },
  {
   "cell_type": "code",
   "execution_count": 42,
   "metadata": {},
   "outputs": [],
   "source": [
    "from pydy.viz.visualization_frame import VisualizationFrame\n",
    "from pydy.viz.scene import Scene"
   ]
  },
  {
   "cell_type": "code",
   "execution_count": 43,
   "metadata": {},
   "outputs": [],
   "source": [
    "Bcm_shape = Sphere(color='black', radius=0.05)\n",
    "M1_shape = Sphere(color='black', radius=0.05)\n",
    "M2_shape = Sphere(color='black', radius=0.05)\n",
    "M3_shape = Sphere(color='black', radius=0.05)\n",
    "M4_shape = Sphere(color='black', radius=0.05)"
   ]
  },
  {
   "cell_type": "code",
   "execution_count": 44,
   "metadata": {},
   "outputs": [],
   "source": [
    "Bcm_viz_frame = VisualizationFrame(N, Bcm, Bcm_shape)\n",
    "M1_viz_frame = VisualizationFrame(N, M1, M1_shape)\n",
    "M2_viz_frame = VisualizationFrame(N, M2, M2_shape)\n",
    "M3_viz_frame = VisualizationFrame(N, M3, M3_shape)\n",
    "M4_viz_frame = VisualizationFrame(N, M4, M4_shape)"
   ]
  },
  {
   "cell_type": "code",
   "execution_count": 45,
   "metadata": {},
   "outputs": [],
   "source": [
    "Body_center = Point('B_c')\n",
    "M_1_center = Point('M_c1')\n",
    "M_2_center = Point('M_c2')\n",
    "M_3_center = Point('M_c3')\n",
    "M_4_center = Point('M_c4')"
   ]
  },
  {
   "cell_type": "code",
   "execution_count": 46,
   "metadata": {},
   "outputs": [],
   "source": [
    "Body_center.set_pos(Bcm, Bcm.pos_from(No)) "
   ]
  },
  {
   "cell_type": "code",
   "execution_count": 47,
   "metadata": {},
   "outputs": [
    {
     "data": {
      "text/latex": [
       "$\\displaystyle \\left\\{ IBxx : 0.00706, \\  IByy : 0.00706, \\  IBzz : 0.007865, \\  dxm : 0.145, \\  dym : 0.145, \\  dzm : 0.05, \\  g : 9.81, \\  mB : 1.8\\right\\}$"
      ],
      "text/plain": [
       "{IBxx: 0.00706, IByy: 0.00706, IBzz: 0.007865, dxm: 0.145, dym: 0.145, dzm: 0.05, g: 9.81, mB: 1.8}"
      ]
     },
     "execution_count": 47,
     "metadata": {},
     "output_type": "execute_result"
    }
   ],
   "source": [
    "constants_dict = dict(zip(constants, numerical_constants))\n",
    "constants_dict"
   ]
  },
  {
   "cell_type": "code",
   "execution_count": 48,
   "metadata": {},
   "outputs": [],
   "source": [
    "scene = Scene(N, No)"
   ]
  },
  {
   "cell_type": "code",
   "execution_count": 49,
   "metadata": {},
   "outputs": [],
   "source": [
    "scene.visualization_frames = [\n",
    "                              Bcm_viz_frame,\n",
    "                              M1_viz_frame,\n",
    "                              M2_viz_frame,\n",
    "                              M3_viz_frame,\n",
    "                              M4_viz_frame,\n",
    "                             ]"
   ]
  },
  {
   "cell_type": "code",
   "execution_count": 50,
   "metadata": {},
   "outputs": [],
   "source": [
    "scene.states_symbols = coordinates + speeds\n",
    "scene.constants = constants_dict\n",
    "scene.states_trajectories = y"
   ]
  },
  {
   "cell_type": "code",
   "execution_count": 51,
   "metadata": {},
   "outputs": [
    {
     "data": {
      "application/vnd.jupyter.widget-view+json": {
       "model_id": "ba20d8959fc945ac90e0e7ef41e9d9eb",
       "version_major": 2,
       "version_minor": 0
      },
      "text/plain": [
       "HTML(value='<!DOCTYPE html>\\n<html lang=\"en\">\\n\\n  <head>\\n\\n    <meta http-equiv=\"Content-Type\" content=\"text…"
      ]
     },
     "metadata": {},
     "output_type": "display_data"
    },
    {
     "data": {
      "text/html": [
       "<!DOCTYPE html>\n",
       "<html lang=\"en\">\n",
       "\n",
       "  <head>\n",
       "\n",
       "    <meta http-equiv=\"Content-Type\" content=\"text/html; charset=utf-8\" />\n",
       "    <title>PyDy Visualizer</title>\n",
       "\n",
       "    <!--CSS -->\n",
       "    <link type=\"text/css\" rel=\"stylesheet\" href=\"pydy-resources/css/main.css\">\n",
       "    <link type=\"text/css\" rel=\"stylesheet\" href=\"pydy-resources/css/codemirror/blackboard.css\">\n",
       "    <link type=\"text/css\" rel=\"stylesheet\" href=\"pydy-resources/css/slider.css\">\n",
       "    <link type=\"text/css\" rel=\"stylesheet\" href=\"pydy-resources/css/bootstrap.min.css\">\n",
       "\n",
       "    <!-- External Javascript -->\n",
       "    <script type=\"text/javascript\" src=\"pydy-resources/js/external/jquery/jquery-ui.js\"></script>\n",
       "\n",
       "    <script type=\"text/javascript\" src=\"pydy-resources/js/external/codemirror/javascript-mode.js\" ></script>\n",
       "\n",
       "    <script type=\"text/javascript\" src=\"pydy-resources/js/external/three/three.min.js\"></script>\n",
       "    <script type=\"text/javascript\" src=\"pydy-resources/js/external/three/TrackballControls.js\"></script>\n",
       "\n",
       "    <script type=\"text/javascript\" src=\"pydy-resources/js/external/utils/modernizr-2.0.6.js\"></script>\n",
       "    <script type=\"text/javascript\" src=\"pydy-resources/js/external/utils/bootstrap-slider.js\"></script>\n",
       "    <script type=\"text/javascript\" src=\"pydy-resources/js/external/utils/prototype.js\"></script>\n",
       "\n",
       "    <!-- DyViz Javascripts -->\n",
       "    <script type=\"text/javascript\" src=\"pydy-resources/js/dyviz/dv.js\"></script>\n",
       "    <script type=\"text/javascript\" src=\"pydy-resources/js/dyviz/scene.js\"></script>\n",
       "    <script type=\"text/javascript\" src=\"pydy-resources/js/dyviz/parser.js\"></script>\n",
       "    <script type=\"text/javascript\" src=\"pydy-resources/js/dyviz/param_editor.js\"></script>\n",
       "    <script type=\"text/javascript\" src=\"pydy-resources/js/dyviz/materials.js\"></script>\n",
       "\n",
       "  </head>\n",
       "\n",
       "  <body>\n",
       "    <div id=\"wrapper\">\n",
       "      <div id=\"container\">\n",
       "        <div id=\"sidebar-right\" >\n",
       "          <div id=\"json-inp\" style=\"display:none;\">\n",
       "            <!--Used in Ipython notebook to set sceneFileURI to load in dv.js-->\n",
       "            <input type=\"text\" class=\"form-control\" id=\"json-input\" value=\"pydy-resources\\2021-06-20_20-24-11_scene_desc.json\">\n",
       "            <input type=\"button\" class=\"btn btn-primary\" value=\"Load Simulation\" id=\"simulation-load\">\n",
       "          </div><!--!json-inp-->\n",
       "          <hr />\n",
       "          <div id=\"edit-objects\" style=\"position: absolute; padding-top: 10px;\" >\n",
       "            <div class=\"btn-group\">\n",
       "              <button type=\"button\" class=\"btn btn-success dropdown-toggle\" data-toggle=\"dropdown\">\n",
       "                Edit Objects\n",
       "                <span class=\"caret\"></span>\n",
       "              </button>\n",
       "              <ul id=\"object-dropdown\" class=\"dropdown-menu\" role=\"menu\"></ul>\n",
       "              <button id=\"close-object-dialog\" class=\"btn btn-default btn-info disabled\">\n",
       "                Close Dialog\n",
       "              </button>\n",
       "              <br />\n",
       "            </div>\n",
       "            <div id=\"object-dialog\" class=\"well\" style=\"display:none; width: 74%;\"> </div>\n",
       "          </div>\n",
       "        </div>\n",
       "        <div id=\"canvas\" >\n",
       "          <div id=\"model-loader-wrapper\" style=\"display:None\">\n",
       "            <button id=\"close-model-dialog\" class=\"btn btn-primary btn-small\">\n",
       "              <i class=\"icon-white icon-list-alt\"></i>\n",
       "              Close Dialog\n",
       "            </button>\n",
       "            <div id=\"download-json\"><!-- appends JSON download link via jQuery --></div>\n",
       "            <textarea rows=\"10\" cols=\"50\" id=\"model-loader\" class=\"form-control\"></textarea>\n",
       "            <hr />\n",
       "          </div>\n",
       "          <div id=\"control-button-group\" style=\"display:inline-block;\" class=\"btn-group\">\n",
       "            <button id=\"play-animation\" class=\"btn btn-default btn-success disabled\" >\n",
       "              <span class=\"glyphicon glyphicon-play\"></span>Play\n",
       "            </button>\n",
       "            <button id=\"pause-animation\" disabled style=\"display:inline-block;\" class=\"btn btn-default btn-info active\">\n",
       "              <span class=\"glyphicon glyphicon-pause\" ></span>Pause\n",
       "            </button>\n",
       "            <button id=\"stop-animation\" disabled style=\"display:inline-block;\" class=\"btn btn-default btn-danger active\">\n",
       "              <span class=\"glyphicon glyphicon-stop\" ></span>Stop\n",
       "            </button>\n",
       "            <button id=\"show-model\" class=\"btn btn-default btn-info disabled\">\n",
       "              <span class=\"glyphicon glyphicon-edit\" ></span>Show Scene JSON\n",
       "            </button>\n",
       "            <label id=\"checkbox-play-looped\"><input type=\"checkbox\" id=\"play-looped\" >Play Looped</label>\n",
       "          </div>\n",
       "          <div id=\"slider-wrapper\" style=\"width: \">\n",
       "              <span class=\"glyphicon glyphicon-time\" ></span>\n",
       "              <span style=\"margin-right:1em;\" id=\"time\"> 0.000s</span>\n",
       "              <div id=\"time-slider\" class=\"slider\" style=\"float:right;padding-left: 2em;\"></div>\n",
       "          </div>\n",
       "          <hr style=\"margin-top: 23px;\" />\n",
       "          <div id=\"renderer\"></div>\n",
       "        </div>\n",
       "      </div>\n",
       "    </div>\n",
       "  </body>\n",
       "\n",
       "  <script type=\"text/javascript\" src=\"pydy-resources/js/dyviz/main.js\"></script>\n",
       "\n",
       "</html>\n"
      ],
      "text/plain": [
       "<IPython.core.display.HTML object>"
      ]
     },
     "metadata": {},
     "output_type": "display_data"
    }
   ],
   "source": [
    "scene.display_ipython()\n",
    "import IPython.display\n",
    "IPython.display.display(IPython.display.HTML(scene._html_widget.value))"
   ]
  },
  {
   "cell_type": "code",
   "execution_count": null,
   "metadata": {
    "scrolled": true
   },
   "outputs": [],
   "source": []
  },
  {
   "cell_type": "code",
   "execution_count": null,
   "metadata": {},
   "outputs": [],
   "source": []
  },
  {
   "cell_type": "code",
   "execution_count": null,
   "metadata": {},
   "outputs": [],
   "source": []
  }
 ],
 "metadata": {
  "kernelspec": {
   "display_name": "Python 3",
   "language": "python",
   "name": "python3"
  },
  "language_info": {
   "codemirror_mode": {
    "name": "ipython",
    "version": 3
   },
   "file_extension": ".py",
   "mimetype": "text/x-python",
   "name": "python",
   "nbconvert_exporter": "python",
   "pygments_lexer": "ipython3",
   "version": "3.8.10"
  }
 },
 "nbformat": 4,
 "nbformat_minor": 4
}
