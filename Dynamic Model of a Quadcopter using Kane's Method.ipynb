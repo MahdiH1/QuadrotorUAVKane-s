{
 "cells": [
  {
   "cell_type": "code",
   "execution_count": null,
   "metadata": {},
   "outputs": [],
   "source": [
    "from sympy import symbols\n",
    "from sympy.physics.mechanics import *\n",
    "from sympy.physics.vector import init_vprinting, vpprint, vprint, vlatex\n",
    "\n",
    "init_vprinting(use_latex='mathjax', pretty_print=False)"
   ]
  },
  {
   "cell_type": "code",
   "execution_count": null,
   "metadata": {},
   "outputs": [],
   "source": [
    "from sympy.physics.mechanics import inertia, RigidBody\n",
    "from matplotlib.pyplot import *\n",
    "%matplotlib inline\n",
    "from IPython.display import set_matplotlib_formats\n",
    "set_matplotlib_formats('png','pdf')\n",
    "from IPython.display import display, HTML\n",
    "\n",
    "display(HTML(data=\"\"\"\n",
    "<style>\n",
    "    div#notebook-container    { width: 95%; }\n",
    "    div#menubar-container     { width: 65%; }\n",
    "    div#maintoolbar-container { width: 99%; }\n",
    "</style>\n",
    "\"\"\"))"
   ]
  },
  {
   "cell_type": "code",
   "execution_count": null,
   "metadata": {},
   "outputs": [],
   "source": [
    "N = ReferenceFrame('N')  \n",
    "B = ReferenceFrame('B')  \n",
    "C = ReferenceFrame('C')  \n",
    "D = ReferenceFrame('D') "
   ]
  },
  {
   "cell_type": "code",
   "execution_count": null,
   "metadata": {},
   "outputs": [],
   "source": [
    "No = Point('No')\n",
    "Bcm = Point('Bcm') \n",
    "M1 = Point('M1')    \n",
    "M2 = Point('M2')\n",
    "M3 = Point('M3')\n",
    "M4 = Point('M4')"
   ]
  },
  {
   "cell_type": "code",
   "execution_count": null,
   "metadata": {},
   "outputs": [],
   "source": [
    "x, y, z, xdot, ydot, zdot = dynamicsymbols('x y z xdot ydot zdot')\n",
    "phi, theta, psi, p, q, r = dynamicsymbols('phi theta psi p q r')"
   ]
  },
  {
   "cell_type": "code",
   "execution_count": null,
   "metadata": {},
   "outputs": [],
   "source": [
    "xd, yd, zd, xdotd, ydotd, zdotd = dynamicsymbols('x y z xdot ydot zdot', 1)\n",
    "phid, thetad, psid, pd, qd, rd = dynamicsymbols('phi theta psi p q r', 1)"
   ]
  },
  {
   "cell_type": "code",
   "execution_count": null,
   "metadata": {},
   "outputs": [],
   "source": [
    "mB, g, dxm, dym, dzm, IBxx, IByy, IBzz = symbols('mB g dxm dym dzm IBxx IByy IBzz')\n",
    "ThrM1, ThrM2, ThrM3, ThrM4, TorM1, TorM2, TorM3, TorM4 = symbols('ThrM1 ThrM2 ThrM3 ThrM4 TorM1 TorM2 TorM3 TorM4')"
   ]
  },
  {
   "cell_type": "code",
   "execution_count": null,
   "metadata": {},
   "outputs": [],
   "source": [
    "D.orient(N, 'Axis', [psi, N.z])\n",
    "C.orient(D, 'Axis', [theta, D.y])\n",
    "B.orient(C, 'Axis', [phi, C.x])\n"
   ]
  },
  {
   "cell_type": "code",
   "execution_count": null,
   "metadata": {},
   "outputs": [],
   "source": [
    "No.set_vel(N, 0)"
   ]
  },
  {
   "cell_type": "code",
   "execution_count": null,
   "metadata": {},
   "outputs": [],
   "source": [
    "Bcm.set_pos(No, x*N.x + y*N.y + z*N.z)\n",
    "Bcm.set_vel(N, Bcm.pos_from(No).dt(N))"
   ]
  },
  {
   "cell_type": "code",
   "execution_count": null,
   "metadata": {},
   "outputs": [],
   "source": [
    "M1.set_pos(Bcm,  dxm*B.x - dym*B.y - dzm*B.z)\n",
    "M2.set_pos(Bcm,  dxm*B.x + dym*B.y - dzm*B.z)\n",
    "M3.set_pos(Bcm, -dxm*B.x + dym*B.y - dzm*B.z)\n",
    "M4.set_pos(Bcm, -dxm*B.x - dym*B.y - dzm*B.z)\n",
    "M1.v2pt_theory(No, N, B)\n",
    "M2.v2pt_theory(No, N, B)\n",
    "M3.v2pt_theory(No, N, B)\n",
    "M4.v2pt_theory(No, N, B)"
   ]
  },
  {
   "cell_type": "code",
   "execution_count": null,
   "metadata": {},
   "outputs": [],
   "source": [
    "M1.pos_from(No).express(N).simplify()"
   ]
  },
  {
   "cell_type": "code",
   "execution_count": null,
   "metadata": {},
   "outputs": [],
   "source": [
    "M2.pos_from(No).express(N).simplify()"
   ]
  },
  {
   "cell_type": "code",
   "execution_count": null,
   "metadata": {},
   "outputs": [],
   "source": [
    "IB = inertia(B, IBxx, IByy, IBzz)\n",
    "IBc= (IB,Bcm)\n",
    "\n",
    "BodyB = RigidBody('BodyB', Bcm, B, mB, IBc)\n",
    "BodyList = [BodyB]"
   ]
  },
  {
   "cell_type": "code",
   "execution_count": null,
   "metadata": {},
   "outputs": [],
   "source": [
    "Grav_Force = (Bcm, mB*g*B.z)\n",
    "FM1 = (M1, -ThrM1*B.z)\n",
    "FM2 = (M2, -ThrM2*B.z)\n",
    "FM3 = (M3, -ThrM3*B.z)\n",
    "FM4 = (M4, -ThrM4*B.z)\n",
    "\n",
    "TM1 = (B, -TorM1*B.z)\n",
    "TM2 = (B,  TorM2*B.z)\n",
    "TM3 = (B, -TorM3*B.z)\n",
    "TM4 = (B,  TorM4*B.z)\n",
    "ForceList = [Grav_Force, FM1, FM2, FM3, FM4, TM1, TM2, TM3, TM4]"
   ]
  },
  {
   "cell_type": "code",
   "execution_count": null,
   "metadata": {},
   "outputs": [],
   "source": [
    "# Kinematic Differential Equations\n",
    "# ---------------------------\n",
    "kd = [xdot - xd, \n",
    "      ydot - yd,\n",
    "      zdot - zd,\n",
    "      p - phid,\n",
    "      q - thetad,\n",
    "      r - psid]\n",
    "kd"
   ]
  },
  {
   "cell_type": "code",
   "execution_count": null,
   "metadata": {},
   "outputs": [],
   "source": [
    "from sympy import trigsimp\n",
    "from sympy.physics.mechanics import KanesMethod"
   ]
  },
  {
   "cell_type": "code",
   "execution_count": null,
   "metadata": {},
   "outputs": [],
   "source": [
    "from sympy import simplify"
   ]
  },
  {
   "cell_type": "code",
   "execution_count": null,
   "metadata": {},
   "outputs": [],
   "source": [
    "kane = KanesMethod(N, q_ind=[x, y, z, phi, theta, psi], u_ind=[xdot, ydot, zdot, p, q, r], kd_eqs=kd)\n",
    "(fr, frstar) = kane.kanes_equations(BodyList, ForceList)"
   ]
  },
  {
   "cell_type": "code",
   "execution_count": null,
   "metadata": {},
   "outputs": [],
   "source": [
    "trigsimp(fr + frstar)"
   ]
  },
  {
   "cell_type": "code",
   "execution_count": null,
   "metadata": {
    "scrolled": true
   },
   "outputs": [],
   "source": [
    "mass_matrix = trigsimp(kane.mass_matrix_full)\n",
    "mass_matrix"
   ]
  },
  {
   "cell_type": "code",
   "execution_count": null,
   "metadata": {},
   "outputs": [],
   "source": [
    "forcing_vector = trigsimp(kane.forcing_full)\n",
    "simplify(forcing_vector)"
   ]
  },
  {
   "cell_type": "code",
   "execution_count": null,
   "metadata": {},
   "outputs": [],
   "source": [
    "from numpy import deg2rad, rad2deg, array, zeros, linspace\n",
    "from scipy.integrate import odeint"
   ]
  },
  {
   "cell_type": "code",
   "execution_count": null,
   "metadata": {},
   "outputs": [],
   "source": [
    "from pydy.codegen.ode_function_generators import generate_ode_function"
   ]
  },
  {
   "cell_type": "code",
   "execution_count": null,
   "metadata": {},
   "outputs": [],
   "source": [
    "%matplotlib inline"
   ]
  },
  {
   "cell_type": "code",
   "execution_count": null,
   "metadata": {},
   "outputs": [],
   "source": [
    "from matplotlib.pyplot import plot, legend, xlabel, ylabel, rcParams"
   ]
  },
  {
   "cell_type": "code",
   "execution_count": null,
   "metadata": {},
   "outputs": [],
   "source": [
    "coordinates = [x, y, z, phi, theta, psi]\n",
    "coordinates"
   ]
  },
  {
   "cell_type": "code",
   "execution_count": null,
   "metadata": {},
   "outputs": [],
   "source": [
    "speeds = [xdot, ydot, zdot, p, q, r]\n",
    "speeds"
   ]
  },
  {
   "cell_type": "code",
   "execution_count": null,
   "metadata": {},
   "outputs": [],
   "source": [
    "constants= [mB,\n",
    "            g,\n",
    "            dxm,\n",
    "            dym,\n",
    "            dzm,\n",
    "            IBxx,\n",
    "            IByy,\n",
    "            IBzz,\n",
    "           ]\n",
    "constants"
   ]
  },
  {
   "cell_type": "code",
   "execution_count": null,
   "metadata": {},
   "outputs": [],
   "source": [
    "specified= [ThrM1, \n",
    "            ThrM2,\n",
    "            ThrM3,\n",
    "            ThrM4, \n",
    "            TorM1,\n",
    "            TorM2,\n",
    "            TorM3,\n",
    "            TorM4]\n"
   ]
  },
  {
   "cell_type": "code",
   "execution_count": null,
   "metadata": {},
   "outputs": [],
   "source": [
    "right_hand_side = generate_ode_function(forcing_vector, coordinates,\n",
    "                                        speeds, constants,\n",
    "                                        mass_matrix= mass_matrix,\n",
    "                                        specifieds=specified)"
   ]
  },
  {
   "cell_type": "code",
   "execution_count": null,
   "metadata": {},
   "outputs": [],
   "source": []
  },
  {
   "cell_type": "code",
   "execution_count": null,
   "metadata": {},
   "outputs": [],
   "source": []
  },
  {
   "cell_type": "code",
   "execution_count": null,
   "metadata": {},
   "outputs": [],
   "source": [
    "x0 = zeros(12)\n",
    "x0"
   ]
  },
  {
   "cell_type": "code",
   "execution_count": null,
   "metadata": {},
   "outputs": [],
   "source": [
    "x0[:8] = deg2rad(2.0)\n",
    "x0"
   ]
  },
  {
   "cell_type": "code",
   "execution_count": null,
   "metadata": {},
   "outputs": [],
   "source": [
    "numerical_constants = array([1.8,\n",
    "                             9.81,\n",
    "                             0.145,\n",
    "                             0.145,\n",
    "                             0.05,\n",
    "                             0.00706,\n",
    "                             0.00706,\n",
    "                             0.007865,]\n",
    "                            ) "
   ]
  },
  {
   "cell_type": "code",
   "execution_count": null,
   "metadata": {},
   "outputs": [],
   "source": [
    "numerical_specified = zeros(8)\n",
    "\n",
    "args = {'constants': numerical_constants,\n",
    "        'specified': numerical_specified}\n",
    "\n",
    "frames_per_sec = 60\n",
    "final_time = 10\n",
    "t = linspace(0, final_time, final_time * frames_per_sec)"
   ]
  },
  {
   "cell_type": "code",
   "execution_count": null,
   "metadata": {},
   "outputs": [],
   "source": [
    "right_hand_side(x0, 0.0, numerical_specified, numerical_constants)"
   ]
  },
  {
   "cell_type": "code",
   "execution_count": null,
   "metadata": {},
   "outputs": [],
   "source": [
    "y = odeint(right_hand_side, x0, t, args=(numerical_specified, numerical_constants))"
   ]
  },
  {
   "cell_type": "code",
   "execution_count": null,
   "metadata": {},
   "outputs": [],
   "source": [
    "y.shape"
   ]
  },
  {
   "cell_type": "code",
   "execution_count": null,
   "metadata": {},
   "outputs": [],
   "source": [
    "plot(t, rad2deg(y[:, :8]))\n",
    "xlabel('Time [s]')\n",
    "ylabel('Distance [m]]')\n",
    "legend([\"${}$\".format(vlatex(c)) for c in coordinates])"
   ]
  },
  {
   "cell_type": "code",
   "execution_count": null,
   "metadata": {},
   "outputs": [],
   "source": [
    "plot(t, rad2deg(y[:, 8:]))\n",
    "xlabel('Time [s]')\n",
    "ylabel('Velocity [m/s]')\n",
    "legend([\"${}$\".format(vlatex(s)) for s in speeds])"
   ]
  },
  {
   "cell_type": "code",
   "execution_count": null,
   "metadata": {},
   "outputs": [],
   "source": [
    "from pydy.viz.shapes import Cylinder, Sphere\n",
    "import pydy.viz\n",
    "pydy.viz.shapes.__all__"
   ]
  },
  {
   "cell_type": "code",
   "execution_count": null,
   "metadata": {},
   "outputs": [],
   "source": [
    "from pydy.viz.visualization_frame import VisualizationFrame\n",
    "from pydy.viz.scene import Scene"
   ]
  },
  {
   "cell_type": "code",
   "execution_count": null,
   "metadata": {},
   "outputs": [],
   "source": [
    "Bcm_shape = Sphere(color='black', radius=0.05)\n",
    "M1_shape = Sphere(color='black', radius=0.05)\n",
    "M2_shape = Sphere(color='black', radius=0.05)\n",
    "M3_shape = Sphere(color='black', radius=0.05)\n",
    "M4_shape = Sphere(color='black', radius=0.05)"
   ]
  },
  {
   "cell_type": "code",
   "execution_count": null,
   "metadata": {},
   "outputs": [],
   "source": [
    "Bcm_viz_frame = VisualizationFrame(N, Bcm, Bcm_shape)\n",
    "M1_viz_frame = VisualizationFrame(N, M1, M1_shape)\n",
    "M2_viz_frame = VisualizationFrame(N, M2, M2_shape)\n",
    "M3_viz_frame = VisualizationFrame(N, M3, M3_shape)\n",
    "M4_viz_frame = VisualizationFrame(N, M4, M4_shape)"
   ]
  },
  {
   "cell_type": "code",
   "execution_count": null,
   "metadata": {},
   "outputs": [],
   "source": [
    "Body_center = Point('B_c')\n",
    "M_1_center = Point('M_c1')\n",
    "M_2_center = Point('M_c2')\n",
    "M_3_center = Point('M_c3')\n",
    "M_4_center = Point('M_c4')"
   ]
  },
  {
   "cell_type": "code",
   "execution_count": null,
   "metadata": {},
   "outputs": [],
   "source": [
    "Body_center.set_pos(Bcm, Bcm.pos_from(No)) "
   ]
  },
  {
   "cell_type": "code",
   "execution_count": null,
   "metadata": {},
   "outputs": [],
   "source": [
    "constants_dict = dict(zip(constants, numerical_constants))\n",
    "constants_dict"
   ]
  },
  {
   "cell_type": "code",
   "execution_count": null,
   "metadata": {},
   "outputs": [],
   "source": [
    "scene = Scene(N, No)"
   ]
  },
  {
   "cell_type": "code",
   "execution_count": null,
   "metadata": {},
   "outputs": [],
   "source": [
    "scene.visualization_frames = [\n",
    "                              Bcm_viz_frame,\n",
    "                              M1_viz_frame,\n",
    "                              M2_viz_frame,\n",
    "                              M3_viz_frame,\n",
    "                              M4_viz_frame,\n",
    "                             ]"
   ]
  },
  {
   "cell_type": "code",
   "execution_count": null,
   "metadata": {},
   "outputs": [],
   "source": [
    "scene.states_symbols = coordinates + speeds\n",
    "scene.constants = constants_dict\n",
    "scene.states_trajectories = y"
   ]
  },
  {
   "cell_type": "code",
   "execution_count": null,
   "metadata": {},
   "outputs": [],
   "source": [
    "scene.display_ipython()\n",
    "import IPython.display\n",
    "IPython.display.display(IPython.display.HTML(scene._html_widget.value))"
   ]
  }
 ],
 "metadata": {
  "kernelspec": {
   "display_name": "Python 3",
   "language": "python",
   "name": "python3"
  },
  "language_info": {
   "codemirror_mode": {
    "name": "ipython",
    "version": 3
   },
   "file_extension": ".py",
   "mimetype": "text/x-python",
   "name": "python",
   "nbconvert_exporter": "python",
   "pygments_lexer": "ipython3",
   "version": "3.8.10"
  }
 },
 "nbformat": 4,
 "nbformat_minor": 4
}
